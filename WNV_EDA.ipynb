{
 "cells": [
  {
   "cell_type": "markdown",
   "id": "513d9c33",
   "metadata": {},
   "source": [
    "# "
   ]
  },
  {
   "cell_type": "markdown",
   "id": "90089d7f",
   "metadata": {},
   "source": [
    "# West Nile Prevalence Prediction - Exploratory Data Analysis "
   ]
  },
  {
   "cell_type": "markdown",
   "id": "1c271708",
   "metadata": {},
   "source": [
    "# Table of Contents\n",
    "#### [Introduction](#Intro) \n",
    "#### [Imports](#Imports)\n",
    "\n",
    "#### [Data Set ](#set)\n",
    "- Data Set Description \n",
    "- Data Read In\n",
    "\n",
    "#### [Data Wrangling](#wrang)\n",
    "- Data Shape\n",
    "- Data Types \n",
    "- New Attributes\n",
    "- Duplicates\n",
    "- Missing Values\n",
    "- Re-Indexing\n",
    "\n",
    "#### [Initial Data Exploration](#init)\n",
    "- Numeric Variables\n",
    "- Categorical Variables\n",
    "\n",
    "#### [Exploratory Data Analysis](#explo)\n",
    "\n",
    "#### [Conclusion](#conclu)\n"
   ]
  },
  {
   "cell_type": "markdown",
   "id": "dd5dd066",
   "metadata": {},
   "source": [
    "## Introduction <a id = Intro a>\n",
    "\n",
    "Uncovering the patterns of Chicago's Mosquito driven West Nile Virus (WNV) requires taking a holisitic look at factors that influence the virus and the behavior of mosquitos alike. In this project we will attempt to predict the number of mosquitos present and the presence of the disease. Having an understanding of the mosquito population and the disease within it will give the City of Chicago greater ability in combatting the disease. In order to uncover where the virus thrives it is important to think about how the data is collected. Testing differnt species of mosquitos in traps across the city of Chicago, means there are many moving factors in understanding the spread of WNV. Mainly, we will focus on how species of mosquito, types of traps and seasonal factors vary with the presence of WNV. The Data for this project comes from the [West Nile Virus Prediction kaggle dataset](https://www.kaggle.com/c/predict-west-nile-virus). "
   ]
  },
  {
   "cell_type": "markdown",
   "id": "b0003939",
   "metadata": {},
   "source": [
    "## Imports <a id=Imports a>\n",
    "Loading in Relevant Python Libraries and Packages allows for easier data manipulation. "
   ]
  },
  {
   "cell_type": "code",
   "execution_count": 63,
   "id": "2b84e397",
   "metadata": {},
   "outputs": [],
   "source": [
    "# Python Library Imports \n",
    "\n",
    "# pandas and numpy are used for data format, in order to allow for easier manipulation.\n",
    "import pandas as pd\n",
    "import numpy as np\n",
    "\n",
    "# seaborn and variables matplotlib packages are used for visualiations.\n",
    "import seaborn as sns\n",
    "import matplotlib.pyplot as plt\n",
    "import matplotlib.gridspec as gridspec\n",
    "\n",
    "# importing my personal data science functions package (descriptions of the functions can be \n",
    "# found within the file)\n",
    "import ds_utils\n",
    "\n",
    "%matplotlib inline\n",
    "\n",
    "# Setting plot figure size (uses these settings every time you run the plot code).\n",
    "plt.rcParams['figure.figsize'] = (10.0, 10.0)"
   ]
  },
  {
   "cell_type": "markdown",
   "id": "2d5822ba",
   "metadata": {},
   "source": [
    "## Data Set <a id=set a>\n",
    "### Data Set Description\n",
    "The dataset we will be exploring is concerned with Chicago's mosquito population. In order to keep track of the West Nile Virus (WNV), the City of Chicago has been tracking mosquito population and the prevalence of WNV in these mosquitos by placing traps around the city (as the speciment are able to be studied and the spread of the disease monitored. \n",
    "\n",
    "The data covers the years 2008 to 2019. \n",
    "\n",
    "The Specific Data Attributes are listed below, along with a description provided with the dataset. \n",
    "\n",
    "Location and Temporal Data:\n",
    "- **Date**\t          Date and time that the WNV test is performed\tstring\tPlease note that not all the locations are                       tested at all times. Also, records exist only when a particular species of mosquitoes is found at a certain trap at a certain time.\t\n",
    "- **Year**\t          Year that the WNV test is performed\t\t\n",
    "- **Week**\t          Week that the WNV test is performed\t\n",
    "\n",
    "Trap Data:\n",
    "- **Trap**\t          Id of the trap\t(Some traps are \"satellite traps\". These are traps that are set up near (usually within 6 blocks) established trap to enhance surveillance efforts. Satellite traps are post fixed with letters. For example, T220A is a satellite trap to T220.\t\n",
    "- **Trap type**\t      Type of trap\t\n",
    "- **Address Block**\t  Address of the location of trap.\t\t\n",
    "- **Block**\t          Block number of address\t\n",
    "- **Lat**\t          Latitude of trap\t\n",
    "- **Lon**\t          Longitude of trap\n",
    "\n",
    "Mosquito Data:\n",
    "- **Mosquito_number** Number of mosquitoes caught in this trap (These test results are organized in such a way that when                     the number of mosquitoes exceed 50, they are split into another record (another row in the dataset), such that the number of mosquitoes are capped at 50).\n",
    "- **Mosquito ID**\t  Id for Mosquito species\t\n",
    "- **WNV_Present**\t  Whether West Nile Virus was present in these mosquitos\t\n",
    "- **Species**\t      Mosquito species\t\n"
   ]
  },
  {
   "cell_type": "markdown",
   "id": "c6063201",
   "metadata": {},
   "source": [
    "This is the initial instance of reading in the data, from a file named `mosquito_data.csv`."
   ]
  },
  {
   "cell_type": "code",
   "execution_count": 64,
   "id": "c5359003",
   "metadata": {},
   "outputs": [
    {
     "name": "stdout",
     "output_type": "stream",
     "text": [
      "The DataFrame contains 18495 rows and 13 columns.\n",
      "There are 5848 missing values and 658 duplicated rows.\n"
     ]
    }
   ],
   "source": [
    "# By assigning the output of the function to df, we have created the first instances of the dataset, as a Pandas \n",
    "# DataFrame within this notebook.\n",
    "df = ds_utils.read_csv_pd('data/mosquito_data.csv')"
   ]
  },
  {
   "cell_type": "markdown",
   "id": "8cf34daa",
   "metadata": {},
   "source": [
    "From the output we can see that there are missing values and duplicated rows to consider. However, we will first look at the make up of the dataframe."
   ]
  },
  {
   "cell_type": "markdown",
   "id": "275812fd",
   "metadata": {},
   "source": [
    "## Data Wrangling <a id=wrang a>"
   ]
  },
  {
   "cell_type": "markdown",
   "id": "99fd1b95",
   "metadata": {},
   "source": [
    "We will now look at the columns in the dataframe and the associated data types."
   ]
  },
  {
   "cell_type": "code",
   "execution_count": 65,
   "id": "9ca5f4f4",
   "metadata": {
    "scrolled": false
   },
   "outputs": [
    {
     "data": {
      "text/html": [
       "<div>\n",
       "<style scoped>\n",
       "    .dataframe tbody tr th:only-of-type {\n",
       "        vertical-align: middle;\n",
       "    }\n",
       "\n",
       "    .dataframe tbody tr th {\n",
       "        vertical-align: top;\n",
       "    }\n",
       "\n",
       "    .dataframe thead th {\n",
       "        text-align: right;\n",
       "    }\n",
       "</style>\n",
       "<table border=\"1\" class=\"dataframe\">\n",
       "  <thead>\n",
       "    <tr style=\"text-align: right;\">\n",
       "      <th></th>\n",
       "      <th>Year</th>\n",
       "      <th>Week</th>\n",
       "      <th>Address Block</th>\n",
       "      <th>Block</th>\n",
       "      <th>Trap</th>\n",
       "      <th>Trap type</th>\n",
       "      <th>Date</th>\n",
       "      <th>Mosquito number</th>\n",
       "      <th>Mosquito ID</th>\n",
       "      <th>WNV Present</th>\n",
       "      <th>Species</th>\n",
       "      <th>Lat</th>\n",
       "      <th>Lon</th>\n",
       "    </tr>\n",
       "  </thead>\n",
       "  <tbody>\n",
       "    <tr>\n",
       "      <th>0</th>\n",
       "      <td>2019</td>\n",
       "      <td>39</td>\n",
       "      <td>100XX W OHARE AIRPORT</td>\n",
       "      <td>100</td>\n",
       "      <td>T910</td>\n",
       "      <td>GRAVID</td>\n",
       "      <td>9/26/19 0:09</td>\n",
       "      <td>2</td>\n",
       "      <td>Res</td>\n",
       "      <td>negative</td>\n",
       "      <td>CULEX RESTUANS</td>\n",
       "      <td>NaN</td>\n",
       "      <td>NaN</td>\n",
       "    </tr>\n",
       "    <tr>\n",
       "      <th>1</th>\n",
       "      <td>2019</td>\n",
       "      <td>39</td>\n",
       "      <td>52XX S KOLMAR AVE</td>\n",
       "      <td>52</td>\n",
       "      <td>T114</td>\n",
       "      <td>GRAVID</td>\n",
       "      <td>9/26/19 0:09</td>\n",
       "      <td>1</td>\n",
       "      <td>Res</td>\n",
       "      <td>negative</td>\n",
       "      <td>CULEX RESTUANS</td>\n",
       "      <td>41.798211</td>\n",
       "      <td>-87.736925</td>\n",
       "    </tr>\n",
       "    <tr>\n",
       "      <th>2</th>\n",
       "      <td>2019</td>\n",
       "      <td>39</td>\n",
       "      <td>58XX N WESTERN AVE</td>\n",
       "      <td>58</td>\n",
       "      <td>T028</td>\n",
       "      <td>GRAVID</td>\n",
       "      <td>9/26/19 0:09</td>\n",
       "      <td>2</td>\n",
       "      <td>Res</td>\n",
       "      <td>negative</td>\n",
       "      <td>CULEX RESTUANS</td>\n",
       "      <td>41.987245</td>\n",
       "      <td>-87.689417</td>\n",
       "    </tr>\n",
       "    <tr>\n",
       "      <th>3</th>\n",
       "      <td>2019</td>\n",
       "      <td>39</td>\n",
       "      <td>39XX N SPRINGFIELD AVE</td>\n",
       "      <td>39</td>\n",
       "      <td>T228</td>\n",
       "      <td>GRAVID</td>\n",
       "      <td>9/26/19 0:09</td>\n",
       "      <td>1</td>\n",
       "      <td>Res</td>\n",
       "      <td>negative</td>\n",
       "      <td>CULEX RESTUANS</td>\n",
       "      <td>41.953664</td>\n",
       "      <td>-87.724987</td>\n",
       "    </tr>\n",
       "    <tr>\n",
       "      <th>4</th>\n",
       "      <td>2019</td>\n",
       "      <td>39</td>\n",
       "      <td>131XX S BRANDON AVE</td>\n",
       "      <td>131</td>\n",
       "      <td>T209</td>\n",
       "      <td>GRAVID</td>\n",
       "      <td>9/26/19 0:09</td>\n",
       "      <td>9</td>\n",
       "      <td>Res</td>\n",
       "      <td>negative</td>\n",
       "      <td>CULEX RESTUANS</td>\n",
       "      <td>41.657069</td>\n",
       "      <td>-87.546049</td>\n",
       "    </tr>\n",
       "  </tbody>\n",
       "</table>\n",
       "</div>"
      ],
      "text/plain": [
       "   Year  Week           Address Block  Block  Trap Trap type          Date  \\\n",
       "0  2019    39   100XX W OHARE AIRPORT    100  T910    GRAVID  9/26/19 0:09   \n",
       "1  2019    39       52XX S KOLMAR AVE     52  T114    GRAVID  9/26/19 0:09   \n",
       "2  2019    39      58XX N WESTERN AVE     58  T028    GRAVID  9/26/19 0:09   \n",
       "3  2019    39  39XX N SPRINGFIELD AVE     39  T228    GRAVID  9/26/19 0:09   \n",
       "4  2019    39     131XX S BRANDON AVE    131  T209    GRAVID  9/26/19 0:09   \n",
       "\n",
       "   Mosquito number Mosquito ID WNV Present         Species        Lat  \\\n",
       "0                2         Res    negative  CULEX RESTUANS        NaN   \n",
       "1                1         Res    negative  CULEX RESTUANS  41.798211   \n",
       "2                2         Res    negative  CULEX RESTUANS  41.987245   \n",
       "3                1         Res    negative  CULEX RESTUANS  41.953664   \n",
       "4                9         Res    negative  CULEX RESTUANS  41.657069   \n",
       "\n",
       "         Lon  \n",
       "0        NaN  \n",
       "1 -87.736925  \n",
       "2 -87.689417  \n",
       "3 -87.724987  \n",
       "4 -87.546049  "
      ]
     },
     "execution_count": 65,
     "metadata": {},
     "output_type": "execute_result"
    }
   ],
   "source": [
    "# Looking at the head of the data gives us a glimpse into the form of the data \n",
    "df.head()"
   ]
  },
  {
   "cell_type": "code",
   "execution_count": 66,
   "id": "09587b0e",
   "metadata": {},
   "outputs": [
    {
     "name": "stdout",
     "output_type": "stream",
     "text": [
      "<class 'pandas.core.frame.DataFrame'>\n",
      "RangeIndex: 18495 entries, 0 to 18494\n",
      "Data columns (total 13 columns):\n",
      " #   Column           Non-Null Count  Dtype  \n",
      "---  ------           --------------  -----  \n",
      " 0   Year             18495 non-null  int64  \n",
      " 1   Week             18495 non-null  int64  \n",
      " 2   Address Block    18495 non-null  object \n",
      " 3   Block            18495 non-null  int64  \n",
      " 4   Trap             18495 non-null  object \n",
      " 5   Trap type        18495 non-null  object \n",
      " 6   Date             18495 non-null  object \n",
      " 7   Mosquito number  18495 non-null  int64  \n",
      " 8   Mosquito ID      18495 non-null  object \n",
      " 9   WNV Present      18495 non-null  object \n",
      " 10  Species          18495 non-null  object \n",
      " 11  Lat              15571 non-null  float64\n",
      " 12  Lon              15571 non-null  float64\n",
      "dtypes: float64(2), int64(4), object(7)\n",
      "memory usage: 1.8+ MB\n"
     ]
    }
   ],
   "source": [
    "# The .info() method returns the columns and their associated datatypes and the number of missing values. \n",
    "df.info()"
   ]
  },
  {
   "cell_type": "markdown",
   "id": "33dd3271",
   "metadata": {},
   "source": [
    "From the outputs above we can see that the columns in the dataframe align with the columns described in the data description. We can also see that there are some missing values for \"Lat\" and \"Lon\", which will be handled later."
   ]
  },
  {
   "cell_type": "markdown",
   "id": "d5cd42f8",
   "metadata": {},
   "source": [
    "### Data Shape\n",
    "\n",
    "Now we can look into the 'shape' of the dataframe, mneaning the number of columns and rows. "
   ]
  },
  {
   "cell_type": "code",
   "execution_count": 67,
   "id": "6117cbd4",
   "metadata": {},
   "outputs": [
    {
     "name": "stdout",
     "output_type": "stream",
     "text": [
      "The shape of the dataframe is: (18495, 13)\n"
     ]
    }
   ],
   "source": [
    "print(\"The shape of the dataframe is:\", df.shape)"
   ]
  },
  {
   "cell_type": "markdown",
   "id": "2cc0fc41",
   "metadata": {},
   "source": [
    "This means that the dataframe has **13 columns** (or attributes) and **18495 rows** (or data points). \n",
    "\n",
    "#### Data Form Observations\n",
    "- There is a combination of numeric and non-numeric columns (these are a few object types that refer to string, and most likely are categorical data). \n",
    "- There is a lot of data and location data (mainly the Date, Year and Week columns) - It is intersting to think about why the data may be grouped into weeks. \n",
    "- All numeric values are int64 datatypes, except Lat and Lon which makes sense given that latitude and longitude coordinates usually have many decimal places. \n",
    "- There is one True/False attribute - WNV_Present - it may make sense to change this to a boolean for ease of data manipulation.\n",
    "- From the shape of the data we know that there are 18495 datapoints. All attributes have this many datapoints except Lat and Lon. Given that we have the address, we may be able to find Latitudes and Longitudes.\n",
    "- The datasource shared that data was only collected when mosquitos were found, meaning there will be no data for 0 mosquitos found. \n",
    "- The datasource also shared that there was a limitation to number of mosquitos caught for each data point. There is a limit of 50, meaning that if more than this were caught another row in the dataset would have the 'spill over' mosquitos.\n",
    "- Date is not in a date format - instead it is recorded as an object."
   ]
  },
  {
   "cell_type": "markdown",
   "id": "05332758",
   "metadata": {},
   "source": [
    "### Data Types \n",
    "\n",
    "Checking the data types for each attribute allows us to ensure that for the different forms of data, the best type is used for ease of manipulation and interpretation."
   ]
  },
  {
   "cell_type": "code",
   "execution_count": 68,
   "id": "80a57e8f",
   "metadata": {},
   "outputs": [
    {
     "data": {
      "text/plain": [
       "Year                 int64\n",
       "Week                 int64\n",
       "Address Block       object\n",
       "Block                int64\n",
       "Trap                object\n",
       "Trap type           object\n",
       "Date                object\n",
       "Mosquito number      int64\n",
       "Mosquito ID         object\n",
       "WNV Present         object\n",
       "Species             object\n",
       "Lat                float64\n",
       "Lon                float64\n",
       "dtype: object"
      ]
     },
     "execution_count": 68,
     "metadata": {},
     "output_type": "execute_result"
    }
   ],
   "source": [
    "# The .dtypes attribute returns the datatypes for each column in the dataset.\n",
    "df.dtypes"
   ]
  },
  {
   "cell_type": "markdown",
   "id": "fd095b4d",
   "metadata": {},
   "source": [
    "From our observation of the datatypes, it seems clear that there are cases where the datatypes could be changed for optimal functionality. For example, we can consider that the \"Date\" column is currently labeled as an object - it may be easier to use a datetime datatype."
   ]
  },
  {
   "cell_type": "markdown",
   "id": "c2ffabea",
   "metadata": {},
   "source": [
    "The data type for 'Date' is an object. We will use the pandas function `.to_datetime()` in order to change the full column to a `datetime\\[ns]` data type. "
   ]
  },
  {
   "cell_type": "code",
   "execution_count": 69,
   "id": "bf7d265b",
   "metadata": {},
   "outputs": [],
   "source": [
    "# Using the to_datetime() method alters the datatype to a datetime[ns] type.\n",
    "df[\"Date\"] = pd.to_datetime(df[\"Date\"])"
   ]
  },
  {
   "cell_type": "markdown",
   "id": "6e81e2c7",
   "metadata": {},
   "source": [
    "Changing the `Date` column to a datetime format allows for easier manipulation based on time. For this reason, it is also useful to re-index the dataframe based on date. We will do so at the end of our initial data wrangling, as doing it later will allow us to look into the distribution of the date column more easily. "
   ]
  },
  {
   "cell_type": "markdown",
   "id": "c7f87325",
   "metadata": {},
   "source": [
    "#### Creating Booleans \n",
    "We can change the only column with a True/False indication - `WNV_Present` (positive/negative) - this will allow for easier data manipulation going forward, as pandas has built in functionlity for boolean datatypes."
   ]
  },
  {
   "cell_type": "code",
   "execution_count": 70,
   "id": "8c2ffd22",
   "metadata": {},
   "outputs": [
    {
     "data": {
      "text/plain": [
       "Index(['Year', 'Week', 'Address Block', 'Block', 'Trap', 'Trap type', 'Date',\n",
       "       'Mosquito number', 'Mosquito ID', 'WNV Present', 'Species', 'Lat',\n",
       "       'Lon'],\n",
       "      dtype='object')"
      ]
     },
     "execution_count": 70,
     "metadata": {},
     "output_type": "execute_result"
    }
   ],
   "source": [
    "df.columns"
   ]
  },
  {
   "cell_type": "code",
   "execution_count": 71,
   "id": "09b37728",
   "metadata": {},
   "outputs": [
    {
     "name": "stdout",
     "output_type": "stream",
     "text": [
      "Unique data points in \"WNV Present\": ['negative' 'positive']\n",
      "Number of \"positive\" results in the dataset: 3994\n"
     ]
    }
   ],
   "source": [
    "# Checking that the only values are positive and negative \n",
    "print(\"Unique data points in \\\"WNV Present\\\":\", df[\"WNV Present\"].unique())\n",
    "\n",
    "# Checking the number of \"positive\" results in the dataset (for a later sanity check)\n",
    "print(\"Number of \\\"positive\\\" results in the dataset:\", sum(df[\"WNV Present\"] == \"positive\"))"
   ]
  },
  {
   "cell_type": "code",
   "execution_count": 72,
   "id": "25bc85ca",
   "metadata": {},
   "outputs": [
    {
     "name": "stdout",
     "output_type": "stream",
     "text": [
      "Unique data points in \"WNV Present\": [False  True]\n",
      "Number of \"True\" values in the new boolean \"WNV Present\": 3994\n"
     ]
    }
   ],
   "source": [
    "# Now we use the condition of whether \"positive\" is present in a row to create a boolean array\n",
    "df[\"WNV Present\"] = df[\"WNV Present\"] == \"positive\"\n",
    "\n",
    "# Checking that the data points have been changed to boolean - This should return only \"True\" and \"False\"\n",
    "print(\"Unique data points in \\\"WNV Present\\\":\", df[\"WNV Present\"].unique())\n",
    "\n",
    "# We will now do a sanity check to ensure that the data has been transformed correctly. We will count the number of \n",
    "# \"True\" values in the \"WNV_Present\" attribute and compare this to the number of \"positive\" values, before the transformation.\n",
    "print(\"Number of \\\"True\\\" values in the new boolean \\\"WNV Present\\\":\", df[\"WNV Present\"].sum())"
   ]
  },
  {
   "cell_type": "markdown",
   "id": "ffde8a2e",
   "metadata": {},
   "source": [
    "The above code changes the datatype of the `WNV_Present` column to a boolean, and does a sanity check to ensure the number of \"positive\" indications is the same as the number of `True` values once the transformation has been made. As both as 3994, we are sure that the transformation has been done correctly. "
   ]
  },
  {
   "cell_type": "markdown",
   "id": "687cdf40",
   "metadata": {},
   "source": [
    "#### Removing Whitespace in Column Names\n",
    "From our output we can see that there are columns with whitespace within their name. It is good practice to remove these, so we will do so using a function from the `ds_utils` package."
   ]
  },
  {
   "cell_type": "code",
   "execution_count": 73,
   "id": "d213c0df",
   "metadata": {},
   "outputs": [],
   "source": [
    "# replaceing whitespace with underscore characters\n",
    "df = ds_utils.remove_attribute_whitespace(df)"
   ]
  },
  {
   "cell_type": "markdown",
   "id": "bcd827d1",
   "metadata": {},
   "source": [
    "## New Attributes"
   ]
  },
  {
   "cell_type": "markdown",
   "id": "038293d7",
   "metadata": {},
   "source": [
    "Finally, we can create an attribute called `YRWeek`. This will create a label for each unique year and month combination in the dataset and apply it to the correct rows. Though this is similar to the `Date` row it has more functionality when looking at the overall picture of the presence of mosquitos and reduces computational load. It also aids with computational load in that less groupbys need to be done when considering specific attributes over time."
   ]
  },
  {
   "cell_type": "code",
   "execution_count": 74,
   "id": "9c02b1a9",
   "metadata": {},
   "outputs": [],
   "source": [
    "# We create the YRWeek attribute by concatenating the \"Year\" and \"Week\" values for each row.\n",
    "df[\"YRWeek\"] = df[\"Year\"].astype(\"string\") + \"-\"+ df[\"Week\"].astype(\"string\")"
   ]
  },
  {
   "cell_type": "markdown",
   "id": "fc1d9404",
   "metadata": {},
   "source": [
    "Now we will create a variables named `Month` to get access to this potential attribute. We will do this by using the month attribute from pandas' DataTimeIndex class. "
   ]
  },
  {
   "cell_type": "code",
   "execution_count": 75,
   "id": "3e6e58ef",
   "metadata": {
    "scrolled": true
   },
   "outputs": [],
   "source": [
    "df[\"Month\"] = pd.DatetimeIndex(df['Date']).month"
   ]
  },
  {
   "cell_type": "markdown",
   "id": "5090479d",
   "metadata": {},
   "source": [
    "## Considering Duplicates \n",
    "\n",
    "### Duplicated Rows\n",
    "\n",
    "Before we do any exploration into the data and their distributions it makes sense to think about duplicated rows. Doing this beforehand will give us a better view of the reality of the data. Duplicates are somewhat complicated in this dataset because of the overflow nature of the mosquito number recording (for example what if exactly 100 mosquitos were caught and there were two indentical rows with mosquito number equalling 50). This may be less of an issue if there are less than 50 caught but these cases must be considered. Some exploration may clear up this issue. It may also be useful to combine these rows as it may allow for easier interpretation. "
   ]
  },
  {
   "cell_type": "code",
   "execution_count": 76,
   "id": "e4a9d8a7",
   "metadata": {},
   "outputs": [
    {
     "name": "stdout",
     "output_type": "stream",
     "text": [
      "The number of total duplicates is 658 and 76 of those are rows with 50 mosquitos\n"
     ]
    }
   ],
   "source": [
    "# We will keep track of the number of 50 row duplicates (this will allow us to ensure we re-add\n",
    "# the correct number of rows)\n",
    "\n",
    "print(\"The number of total duplicates is\", df.duplicated().sum(),\"and\",\n",
    "      len(df[(df.duplicated()==True) & (df[\"Mosquito_number\"] == 50)]),\"of those are rows with 50 mosquitos\")"
   ]
  },
  {
   "cell_type": "markdown",
   "id": "4d8f19c6",
   "metadata": {},
   "source": [
    "If we aim to only remove rows without 50 mosquitos, we will need to remove 582 total. We should end with 18495 - 582 = 17913.  \n",
    "\n",
    "The `.duplicated()` method only counts identical rows (which would mean overflow rows), so we will use the `.duplicated()` method along with a conditional for only rows with 50 mosquitos in order to remove the duplicates. "
   ]
  },
  {
   "cell_type": "code",
   "execution_count": 77,
   "id": "c26289c3",
   "metadata": {},
   "outputs": [],
   "source": [
    "# Reassigning the dataframe to the frame without the duplicated non-50 rows.\n",
    "df = df[~((df.duplicated()==True) & ~(df[\"Mosquito_number\"] == 50))]"
   ]
  },
  {
   "cell_type": "code",
   "execution_count": 78,
   "id": "5955113d",
   "metadata": {},
   "outputs": [
    {
     "data": {
      "text/plain": [
       "(17913, 15)"
      ]
     },
     "execution_count": 78,
     "metadata": {},
     "output_type": "execute_result"
    }
   ],
   "source": [
    "df.shape"
   ]
  },
  {
   "cell_type": "markdown",
   "id": "a8c5d317",
   "metadata": {},
   "source": [
    "As expected, we have 17913 rows and have removed all duplicates of non-50 mosquito rows. The maths aligns, so we have passed our sanity check."
   ]
  },
  {
   "cell_type": "markdown",
   "id": "f6b8987b",
   "metadata": {},
   "source": [
    "### Duplicated Columns \n",
    "\n",
    "Though the data descriptions for each column are different, there may be similarities in the columns that make keeping both redundant. In order to take a quick look at similarities we will use pandas' built in correlation matrix to see if there are any immediate correlations. Using a heatmap alongside this, as a visual, will allow for easier interpretation. "
   ]
  },
  {
   "cell_type": "code",
   "execution_count": 79,
   "id": "3e84b5a0",
   "metadata": {},
   "outputs": [
    {
     "data": {
      "text/html": [
       "<div>\n",
       "<style scoped>\n",
       "    .dataframe tbody tr th:only-of-type {\n",
       "        vertical-align: middle;\n",
       "    }\n",
       "\n",
       "    .dataframe tbody tr th {\n",
       "        vertical-align: top;\n",
       "    }\n",
       "\n",
       "    .dataframe thead th {\n",
       "        text-align: right;\n",
       "    }\n",
       "</style>\n",
       "<table border=\"1\" class=\"dataframe\">\n",
       "  <thead>\n",
       "    <tr style=\"text-align: right;\">\n",
       "      <th></th>\n",
       "      <th>Year</th>\n",
       "      <th>Week</th>\n",
       "      <th>Block</th>\n",
       "      <th>Mosquito_number</th>\n",
       "      <th>WNV_Present</th>\n",
       "      <th>Lat</th>\n",
       "      <th>Lon</th>\n",
       "      <th>Month</th>\n",
       "    </tr>\n",
       "  </thead>\n",
       "  <tbody>\n",
       "    <tr>\n",
       "      <th>Year</th>\n",
       "      <td>1.000000</td>\n",
       "      <td>-0.024027</td>\n",
       "      <td>-0.033674</td>\n",
       "      <td>0.123473</td>\n",
       "      <td>0.140450</td>\n",
       "      <td>0.064088</td>\n",
       "      <td>-0.040140</td>\n",
       "      <td>-0.102678</td>\n",
       "    </tr>\n",
       "    <tr>\n",
       "      <th>Week</th>\n",
       "      <td>-0.024027</td>\n",
       "      <td>1.000000</td>\n",
       "      <td>-0.020778</td>\n",
       "      <td>-0.037638</td>\n",
       "      <td>0.171501</td>\n",
       "      <td>-0.001914</td>\n",
       "      <td>-0.009174</td>\n",
       "      <td>0.949712</td>\n",
       "    </tr>\n",
       "    <tr>\n",
       "      <th>Block</th>\n",
       "      <td>-0.033674</td>\n",
       "      <td>-0.020778</td>\n",
       "      <td>1.000000</td>\n",
       "      <td>0.106183</td>\n",
       "      <td>-0.007298</td>\n",
       "      <td>-0.261829</td>\n",
       "      <td>0.099292</td>\n",
       "      <td>-0.013493</td>\n",
       "    </tr>\n",
       "    <tr>\n",
       "      <th>Mosquito_number</th>\n",
       "      <td>0.123473</td>\n",
       "      <td>-0.037638</td>\n",
       "      <td>0.106183</td>\n",
       "      <td>1.000000</td>\n",
       "      <td>0.404855</td>\n",
       "      <td>0.059195</td>\n",
       "      <td>-0.100425</td>\n",
       "      <td>-0.045054</td>\n",
       "    </tr>\n",
       "    <tr>\n",
       "      <th>WNV_Present</th>\n",
       "      <td>0.140450</td>\n",
       "      <td>0.171501</td>\n",
       "      <td>-0.007298</td>\n",
       "      <td>0.404855</td>\n",
       "      <td>1.000000</td>\n",
       "      <td>0.072799</td>\n",
       "      <td>-0.126576</td>\n",
       "      <td>0.158748</td>\n",
       "    </tr>\n",
       "    <tr>\n",
       "      <th>Lat</th>\n",
       "      <td>0.064088</td>\n",
       "      <td>-0.001914</td>\n",
       "      <td>-0.261829</td>\n",
       "      <td>0.059195</td>\n",
       "      <td>0.072799</td>\n",
       "      <td>1.000000</td>\n",
       "      <td>-0.695048</td>\n",
       "      <td>-0.007202</td>\n",
       "    </tr>\n",
       "    <tr>\n",
       "      <th>Lon</th>\n",
       "      <td>-0.040140</td>\n",
       "      <td>-0.009174</td>\n",
       "      <td>0.099292</td>\n",
       "      <td>-0.100425</td>\n",
       "      <td>-0.126576</td>\n",
       "      <td>-0.695048</td>\n",
       "      <td>1.000000</td>\n",
       "      <td>-0.006613</td>\n",
       "    </tr>\n",
       "    <tr>\n",
       "      <th>Month</th>\n",
       "      <td>-0.102678</td>\n",
       "      <td>0.949712</td>\n",
       "      <td>-0.013493</td>\n",
       "      <td>-0.045054</td>\n",
       "      <td>0.158748</td>\n",
       "      <td>-0.007202</td>\n",
       "      <td>-0.006613</td>\n",
       "      <td>1.000000</td>\n",
       "    </tr>\n",
       "  </tbody>\n",
       "</table>\n",
       "</div>"
      ],
      "text/plain": [
       "                     Year      Week     Block  Mosquito_number  WNV_Present  \\\n",
       "Year             1.000000 -0.024027 -0.033674         0.123473     0.140450   \n",
       "Week            -0.024027  1.000000 -0.020778        -0.037638     0.171501   \n",
       "Block           -0.033674 -0.020778  1.000000         0.106183    -0.007298   \n",
       "Mosquito_number  0.123473 -0.037638  0.106183         1.000000     0.404855   \n",
       "WNV_Present      0.140450  0.171501 -0.007298         0.404855     1.000000   \n",
       "Lat              0.064088 -0.001914 -0.261829         0.059195     0.072799   \n",
       "Lon             -0.040140 -0.009174  0.099292        -0.100425    -0.126576   \n",
       "Month           -0.102678  0.949712 -0.013493        -0.045054     0.158748   \n",
       "\n",
       "                      Lat       Lon     Month  \n",
       "Year             0.064088 -0.040140 -0.102678  \n",
       "Week            -0.001914 -0.009174  0.949712  \n",
       "Block           -0.261829  0.099292 -0.013493  \n",
       "Mosquito_number  0.059195 -0.100425 -0.045054  \n",
       "WNV_Present      0.072799 -0.126576  0.158748  \n",
       "Lat              1.000000 -0.695048 -0.007202  \n",
       "Lon             -0.695048  1.000000 -0.006613  \n",
       "Month           -0.007202 -0.006613  1.000000  "
      ]
     },
     "execution_count": 79,
     "metadata": {},
     "output_type": "execute_result"
    }
   ],
   "source": [
    "# Looking at correlation matrix will show whether there are columns that are identical - if this were this case \n",
    "# then we would see correlations of 1. \n",
    "df.corr()"
   ]
  },
  {
   "cell_type": "markdown",
   "id": "a0eebb39",
   "metadata": {},
   "source": [
    "Looking at the correlation matrix in the form of a heatmap allows for easier interpretation. `sns` calls Seaborn - a \n",
    "common data visualisation package. "
   ]
  },
  {
   "cell_type": "code",
   "execution_count": 80,
   "id": "43f144aa",
   "metadata": {
    "scrolled": false
   },
   "outputs": [
    {
     "data": {
      "image/png": "[encoded data removed]",
      "text/plain": [
       "<Figure size 720x720 with 2 Axes>"
      ]
     },
     "metadata": {
      "needs_background": "light"
     },
     "output_type": "display_data"
    }
   ],
   "source": [
    "# creates a heatmap of correlation \n",
    "sns.heatmap(df.corr(), cmap='coolwarm')\n",
    "plt.title(\"Heatmap of Correlation Between Numeric Variables\")\n",
    "plt.show()"
   ]
  },
  {
   "cell_type": "markdown",
   "id": "1eff81fc",
   "metadata": {},
   "source": [
    "Though this output does not indicate any direct correlations between numeric attributes, apart from `Week` and `Month` (which is to be expected), we do still need to consider categorical attributes and formats that will not be picked up by the maths behind the correlation matrix."
   ]
  },
  {
   "cell_type": "markdown",
   "id": "a53839fd",
   "metadata": {},
   "source": [
    "We can also test the similarity of columns using the duplicated() method with a transform on the data. If any are the same this will return True."
   ]
  },
  {
   "cell_type": "code",
   "execution_count": 81,
   "id": "c768024b",
   "metadata": {
    "scrolled": true
   },
   "outputs": [
    {
     "name": "stdout",
     "output_type": "stream",
     "text": [
      "Year               False\n",
      "Week               False\n",
      "Address_Block      False\n",
      "Block              False\n",
      "Trap               False\n",
      "Trap_type          False\n",
      "Date               False\n",
      "Mosquito_number    False\n",
      "Mosquito_ID        False\n",
      "WNV_Present        False\n",
      "Species            False\n",
      "Lat                False\n",
      "Lon                False\n",
      "YRWeek             False\n",
      "Month              False\n",
      "dtype: bool\n"
     ]
    }
   ],
   "source": [
    "print(df.T.duplicated())"
   ]
  },
  {
   "cell_type": "markdown",
   "id": "26fd80df",
   "metadata": {},
   "source": [
    "This output shows us that there are no cases where the columns are identical. This does not, however, mean that there are no redundancies. There are a few cases where we can see that columns give the same information - just named differently. \n",
    "\n",
    "Firstly we will look into similarities between `Mosquito_ID` and `Species`, as these both seem to suggest the species of mosquito. Comparing the columns directly will show us if there are simiality patterns. "
   ]
  },
  {
   "cell_type": "code",
   "execution_count": 82,
   "id": "f1306ffa",
   "metadata": {
    "scrolled": true
   },
   "outputs": [
    {
     "data": {
      "text/html": [
       "<div>\n",
       "<style scoped>\n",
       "    .dataframe tbody tr th:only-of-type {\n",
       "        vertical-align: middle;\n",
       "    }\n",
       "\n",
       "    .dataframe tbody tr th {\n",
       "        vertical-align: top;\n",
       "    }\n",
       "\n",
       "    .dataframe thead th {\n",
       "        text-align: right;\n",
       "    }\n",
       "</style>\n",
       "<table border=\"1\" class=\"dataframe\">\n",
       "  <thead>\n",
       "    <tr style=\"text-align: right;\">\n",
       "      <th></th>\n",
       "      <th>Mosquito_ID</th>\n",
       "      <th>Species</th>\n",
       "    </tr>\n",
       "  </thead>\n",
       "  <tbody>\n",
       "    <tr>\n",
       "      <th>0</th>\n",
       "      <td>Res</td>\n",
       "      <td>CULEX RESTUANS</td>\n",
       "    </tr>\n",
       "    <tr>\n",
       "      <th>1</th>\n",
       "      <td>Res</td>\n",
       "      <td>CULEX RESTUANS</td>\n",
       "    </tr>\n",
       "    <tr>\n",
       "      <th>2</th>\n",
       "      <td>Res</td>\n",
       "      <td>CULEX RESTUANS</td>\n",
       "    </tr>\n",
       "    <tr>\n",
       "      <th>3</th>\n",
       "      <td>Res</td>\n",
       "      <td>CULEX RESTUANS</td>\n",
       "    </tr>\n",
       "    <tr>\n",
       "      <th>4</th>\n",
       "      <td>Res</td>\n",
       "      <td>CULEX RESTUANS</td>\n",
       "    </tr>\n",
       "  </tbody>\n",
       "</table>\n",
       "</div>"
      ],
      "text/plain": [
       "  Mosquito_ID         Species\n",
       "0         Res  CULEX RESTUANS\n",
       "1         Res  CULEX RESTUANS\n",
       "2         Res  CULEX RESTUANS\n",
       "3         Res  CULEX RESTUANS\n",
       "4         Res  CULEX RESTUANS"
      ]
     },
     "execution_count": 82,
     "metadata": {},
     "output_type": "execute_result"
    }
   ],
   "source": [
    "# Inital comparison of similar columns\n",
    "df[[\"Mosquito_ID\", \"Species\"]].head()"
   ]
  },
  {
   "cell_type": "markdown",
   "id": "71661bd7",
   "metadata": {},
   "source": [
    "There is clearly a, potential, link between these columns, as it seems that \"Res\" is shorthand for \"CULUX RESTUANS\". In order to check that every \"Mosquito ID\" is linked to a distinct \"Species\", we will do a groupby both columns and see if we find any instances of multiple \"Species\" for a \"Mosquito ID\", or the reverse. "
   ]
  },
  {
   "cell_type": "code",
   "execution_count": 83,
   "id": "b5007dd3",
   "metadata": {},
   "outputs": [
    {
     "data": {
      "text/plain": [
       "Mosquito_ID  Species         \n",
       "Pip          CULEX PIPIENS        5324\n",
       "Res          CULEX RESTUANS      11450\n",
       "Sal          CULEX SALINARIUS      222\n",
       "Ter          CULEX TERRITANS       917\n",
       "Name: Trap, dtype: int64"
      ]
     },
     "execution_count": 83,
     "metadata": {},
     "output_type": "execute_result"
    }
   ],
   "source": [
    "# Using a groupby will show us instances where rows with one \"Mosquito Id\" have multiple \"Species\", if no cases\n",
    "# like this are found we know that keeping both is redudant because they both tell us about the mosquitoes species. \n",
    "df.groupby([\"Mosquito_ID\", \"Species\"])[\"Trap\"].count()\n"
   ]
  },
  {
   "cell_type": "markdown",
   "id": "9fce96f5",
   "metadata": {},
   "source": [
    "This output shows that every `Mosquito_ID` links to one distinct `Species` and seems to imply the same thing. For this reason we will drop \"Mosquito ID\" because this gives less information than the full latin species name reported in `Species`."
   ]
  },
  {
   "cell_type": "code",
   "execution_count": 84,
   "id": "9c0db8e5",
   "metadata": {},
   "outputs": [],
   "source": [
    "# Here we drop the \"Mosquito_ID\" column from axis=1 (the column axis) and using inplace=True means it is applied to the\n",
    "# whole dataset. \n",
    "df.drop([\"Mosquito_ID\"], axis =1, inplace=True)"
   ]
  },
  {
   "cell_type": "markdown",
   "id": "d1bf7205",
   "metadata": {},
   "source": [
    "Now we will consider if there are similarities between `Address_Block` and `Block`, as they are both concerned with location. It also seems that there is a link between these, as the `Block` seems to be reported from the \n",
    "start of the `Address_Block` string."
   ]
  },
  {
   "cell_type": "code",
   "execution_count": 85,
   "id": "5b90fa71",
   "metadata": {
    "scrolled": true
   },
   "outputs": [
    {
     "data": {
      "text/html": [
       "<div>\n",
       "<style scoped>\n",
       "    .dataframe tbody tr th:only-of-type {\n",
       "        vertical-align: middle;\n",
       "    }\n",
       "\n",
       "    .dataframe tbody tr th {\n",
       "        vertical-align: top;\n",
       "    }\n",
       "\n",
       "    .dataframe thead th {\n",
       "        text-align: right;\n",
       "    }\n",
       "</style>\n",
       "<table border=\"1\" class=\"dataframe\">\n",
       "  <thead>\n",
       "    <tr style=\"text-align: right;\">\n",
       "      <th></th>\n",
       "      <th>Address_Block</th>\n",
       "      <th>Block</th>\n",
       "    </tr>\n",
       "  </thead>\n",
       "  <tbody>\n",
       "    <tr>\n",
       "      <th>0</th>\n",
       "      <td>100XX W OHARE AIRPORT</td>\n",
       "      <td>100</td>\n",
       "    </tr>\n",
       "    <tr>\n",
       "      <th>1</th>\n",
       "      <td>52XX S KOLMAR AVE</td>\n",
       "      <td>52</td>\n",
       "    </tr>\n",
       "    <tr>\n",
       "      <th>2</th>\n",
       "      <td>58XX N WESTERN AVE</td>\n",
       "      <td>58</td>\n",
       "    </tr>\n",
       "    <tr>\n",
       "      <th>3</th>\n",
       "      <td>39XX N SPRINGFIELD AVE</td>\n",
       "      <td>39</td>\n",
       "    </tr>\n",
       "    <tr>\n",
       "      <th>4</th>\n",
       "      <td>131XX S BRANDON AVE</td>\n",
       "      <td>131</td>\n",
       "    </tr>\n",
       "  </tbody>\n",
       "</table>\n",
       "</div>"
      ],
      "text/plain": [
       "            Address_Block  Block\n",
       "0   100XX W OHARE AIRPORT    100\n",
       "1       52XX S KOLMAR AVE     52\n",
       "2      58XX N WESTERN AVE     58\n",
       "3  39XX N SPRINGFIELD AVE     39\n",
       "4     131XX S BRANDON AVE    131"
      ]
     },
     "execution_count": 85,
     "metadata": {},
     "output_type": "execute_result"
    }
   ],
   "source": [
    "# Considering similarities between \"Address Block\" and \"Block\" by looking at the first few rows of data.\n",
    "df[[\"Address_Block\", \"Block\"]].head() "
   ]
  },
  {
   "cell_type": "markdown",
   "id": "940bb58c",
   "metadata": {},
   "source": [
    "This seems to suggest that there is a correlation but we need to test this. First we will look at the number of unique values for each of the columns. If there are different numbers of unique value for the two columns, we will know that they are reporting different things. Again, we will use a groupby in order to expose the relationship between these two attributes."
   ]
  },
  {
   "cell_type": "code",
   "execution_count": 86,
   "id": "cd560d29",
   "metadata": {},
   "outputs": [
    {
     "name": "stdout",
     "output_type": "stream",
     "text": [
      "Number of Unique \"Address Block\" values: 154\n",
      "Number of Unique \"Block\" values: 87\n"
     ]
    },
    {
     "data": {
      "text/plain": [
       "Address_Block             Block\n",
       "100XX W OHARE             100       178\n",
       "100XX W OHARE AIRPORT     100      1565\n",
       "101XX S STONY ISLAND AVE  101       369\n",
       "104XX S OGLESBY AVE       104         1\n",
       "104XX S VINCENNES AVE     104       138\n",
       "Name: Trap, dtype: int64"
      ]
     },
     "execution_count": 86,
     "metadata": {},
     "output_type": "execute_result"
    }
   ],
   "source": [
    "#Grouping by clarifies if there are any instances of there being different values for \n",
    "                # Species for each value of Mosquito ID\n",
    "print(\"Number of Unique \\\"Address Block\\\" values:\", len(df[\"Address_Block\"].unique()))\n",
    "print(\"Number of Unique \\\"Block\\\" values:\", len(df[\"Block\"].unique()))\n",
    "\n",
    "df.groupby([\"Address_Block\", \"Block\"])[\"Trap\"].count().head()"
   ]
  },
  {
   "cell_type": "markdown",
   "id": "d0ab3b46",
   "metadata": {},
   "source": [
    "As the number of unique values is different, there is clearly no exact similarity between these two columns. From the aggregated groupby output, we can see that there are instances where different `Address_Block` values are associated with the same `Block` value. For example `Block` 104 is associated with both `104XX S OGLESBY AVE` and `104XX S VINCENNES AVE`. These are two distinct addresseses, so keeping the `Address_Block` and `Block` attributes could not lead to redundancies because they are distinct. However, it seems that using `Address_Block` when considering location could be more exhaustive and therefore more accurate. The `Block` attribute is somewhat confusing because it does not given a consistent location. For this reason we will drop the `Block` attribute because it's information is held within the `Address_Block` attribute and it seems to not add any distinct, understandable value. "
   ]
  },
  {
   "cell_type": "code",
   "execution_count": 87,
   "id": "4d86c1b2",
   "metadata": {},
   "outputs": [],
   "source": [
    "# Here we are dropping the \"Block\" attribute because it does not bring any value.\n",
    "df.drop([\"Block\"], axis =1, inplace=True)"
   ]
  },
  {
   "cell_type": "markdown",
   "id": "f969537d",
   "metadata": {},
   "source": [
    "As a final note, it could be argued that keeping `Year`, `Week` and `Date` creates some redundancies. However, it is useful to keep `Year` and `Week` for their functionality when looking at seasonal trends (as shown in our initial exploration of `Date` above). They are also useful from a computational load perspective. \n",
    "\n",
    "We will however look to see if the `Year` and `Week` values will give us a clearer understanding of the time span of the dataset."
   ]
  },
  {
   "cell_type": "markdown",
   "id": "86caf7ae",
   "metadata": {},
   "source": [
    "### Missing Values"
   ]
  },
  {
   "cell_type": "markdown",
   "id": "452ce982",
   "metadata": {},
   "source": [
    "Out initial exploration showed that there are missing value in the dataset for `Lat` and `Lon`. Looking into the number of null values gives us an understanding of the amount of data missing from the dataset. "
   ]
  },
  {
   "cell_type": "code",
   "execution_count": 88,
   "id": "6e12485f",
   "metadata": {},
   "outputs": [
    {
     "name": "stdout",
     "output_type": "stream",
     "text": [
      "The number of rows with missing data for each column:\n",
      "Year                  0\n",
      "Week                  0\n",
      "Address_Block         0\n",
      "Trap                  0\n",
      "Trap_type             0\n",
      "Date                  0\n",
      "Mosquito_number       0\n",
      "WNV_Present           0\n",
      "Species               0\n",
      "Lat                2342\n",
      "Lon                2342\n",
      "YRWeek                0\n",
      "Month                 0\n",
      "dtype: int64\n"
     ]
    }
   ],
   "source": [
    "print(\"The number of rows with missing data for each column:\\n\", df.isna().sum(), sep='') # we have missing data for latitude and longitude for 2924 datapoints"
   ]
  },
  {
   "cell_type": "markdown",
   "id": "9b69ee3f",
   "metadata": {},
   "source": [
    "It is clear that the only missing data is for the latitude and longitude. It could be assumed that all data points missing latitude would also be missing longitude. To be sure that this is the case, we will compare the boolean arrays that identify missing values in each row (using the method .isna()), by using the numpy.array_equal() method to see if the boolean arrays are identical. If all `Lat` data points are also missing `Lon` data points the boolean arrays created by the `.isna()` method will be identical. "
   ]
  },
  {
   "cell_type": "code",
   "execution_count": 89,
   "id": "0f9e9c03",
   "metadata": {},
   "outputs": [
    {
     "name": "stdout",
     "output_type": "stream",
     "text": [
      "Is every missing Latitude associated with a missing Longitude: True\n",
      "Percentage Data Missing: 13.07%\n"
     ]
    }
   ],
   "source": [
    "# The numpy.array_equal() method returns a \"True\" if the arrays are identical\n",
    "print(\"Is every missing Latitude associated with a missing Longitude:\", \n",
    "      np.array_equal(df[\"Lat\"].isna(), df[\"Lon\"].isna())) \n",
    "                                                 \n",
    "# Now we look at the propotion of missing data overall\n",
    "prop_missing = ((df[\"Lat\"].isna().sum()) / len(df)) * 100\n",
    "print(\"Percentage Data Missing: \", round(prop_missing, 2), \"%\", sep='')"
   ]
  },
  {
   "cell_type": "markdown",
   "id": "bc7cbd40",
   "metadata": {},
   "source": [
    "`Lat` and `Lon` are indicators of location, so looking at the `Address_Block` for the missing values may expose specific locations that are missing coordinate data. We can look more deeply into whether there a few specific locations that are missing data, or if all missing data is associated to a different data point. We will do this by grouping by `Address_Block` for rows with missing data. Adding the .size() method to this allows us to see how many data points for specific addresses are missing Latitude and Longitude data. "
   ]
  },
  {
   "cell_type": "code",
   "execution_count": 90,
   "id": "fb70807f",
   "metadata": {
    "scrolled": true
   },
   "outputs": [
    {
     "data": {
      "text/plain": [
       "Address_Block\n",
       "100XX W OHARE             178\n",
       "100XX W OHARE AIRPORT    1565\n",
       "115XX S AVENUE L           36\n",
       "30XX S HOYNE               12\n",
       "43XX N ASHLAND             10\n",
       "4XX W 127TH               270\n",
       "65XX N OAK PARK AVE        17\n",
       "79XX S CHICAGO            127\n",
       "81XX S ASHLAND            116\n",
       "98XX S AVENUE G            11\n",
       "dtype: int64"
      ]
     },
     "execution_count": 90,
     "metadata": {},
     "output_type": "execute_result"
    }
   ],
   "source": [
    "df[df[\"Lat\"].isna()].groupby(\"Address_Block\").size()"
   ]
  },
  {
   "cell_type": "markdown",
   "id": "594c8f47",
   "metadata": {},
   "source": [
    "As there are only ten locations with missing coordinate data, we can manually add this information (after extracting it from google). Because the data has built in anonymity, we used the 50th location for each address. This may allow for more accurate location data, given that we are unaware of the exact number. \n",
    "\n",
    "For example, \n",
    "10050 W OHARE was used to extract coordinate data for 100XX W OHARE. "
   ]
  },
  {
   "cell_type": "code",
   "execution_count": 91,
   "id": "68031707",
   "metadata": {},
   "outputs": [],
   "source": [
    "# All location data was extracted from google maps. \n",
    "df.loc[df[\"Address_Block\"] == \"100XX W OHARE\", [\"Lat\", \"Lon\"]] = [41.97918417185854, -87.90603567116452]\n",
    "df.loc[df[\"Address_Block\"] == \"100XX W OHARE AIRPORT\", [\"Lat\", \"Lon\"]] = [41.97927587140582, -87.90599275843982]\n",
    "df.loc[df[\"Address_Block\"] == \"115XX S AVENUE L\", [\"Lat\", \"Lon\"]] = [41.68563982824378, -87.53667389381788]\n",
    "df.loc[df[\"Address_Block\"] == \"30XX S HOYNE\", [\"Lat\", \"Lon\"]] = [41.83675008186022, -87.67770701611565]\n",
    "df.loc[df[\"Address_Block\"] == \"43XX N ASHLAND\", [\"Lat\", \"Lon\"]] = [41.96144050852612, -87.66955066250219]\n",
    "df.loc[df[\"Address_Block\"] == \"4XX W 127TH\", [\"Lat\", \"Lon\"]] = [41.663756686541326, -87.63377020262799]\n",
    "df.loc[df[\"Address_Block\"] == \"65XX N OAK PARK AVE\", [\"Lat\", \"Lon\"]] = [42.00073387413292, -87.79582801611002]\n",
    "df.loc[df[\"Address_Block\"] == \"79XX S CHICAGO\", [\"Lat\", \"Lon\"]] = [41.750369573661345, -87.58445996029592]\n",
    "df.loc[df[\"Address_Block\"] == \"81XX S ASHLAND\", [\"Lat\", \"Lon\"]] = [41.74538943321954, -87.66370766029615]\n",
    "df.loc[df[\"Address_Block\"] == \"98XX S AVENUE G\", [\"Lat\", \"Lon\"]] = [41.71699287365592, -87.53166946029711]"
   ]
  },
  {
   "cell_type": "markdown",
   "id": "04237d7f",
   "metadata": {},
   "source": [
    "Now we can check that this worked, by looking at what percentage of the data has missing values:"
   ]
  },
  {
   "cell_type": "code",
   "execution_count": 92,
   "id": "d38809a3",
   "metadata": {},
   "outputs": [
    {
     "name": "stdout",
     "output_type": "stream",
     "text": [
      "Proportion of Latitude Data Missing: 0.0%\n"
     ]
    }
   ],
   "source": [
    "print(\"Proportion of Latitude Data Missing: \",((df[\"Lat\"].isna().sum()) / len(df)) * 100,\"%\", sep=\"\")"
   ]
  },
  {
   "cell_type": "markdown",
   "id": "dc08aa9b",
   "metadata": {},
   "source": [
    "## Initial Data Exploration <a id=init a>"
   ]
  },
  {
   "cell_type": "markdown",
   "id": "11586a0b",
   "metadata": {},
   "source": [
    "In order to look more closely at what the attributes are storing and how they are distributed we will create two dataframes, one with all the categorical variables and one with all the numeric. \n",
    "\n",
    "Looking at the relationships between all the categorical variables and all of the numeric variables brings value in that it allows us to see how these interact. It gives a clearer value to the place of variables in context. We will\n",
    "consider `Date`, `Year` and `Week` as numeric because we are considering date overall as numeric. \n",
    "\n",
    "We will create two dataframes: `nums_df` and `cat_df` in order to look at the relationship between all variables. To do this we will use a function called `num_cat_cols` to create lists of the numerical and categorical variables. Within this function we can establish that we are considering date values as numeric. "
   ]
  },
  {
   "cell_type": "code",
   "execution_count": 93,
   "id": "413f6f53",
   "metadata": {},
   "outputs": [
    {
     "name": "stdout",
     "output_type": "stream",
     "text": [
      "The Numeric columns: \n",
      "\tYear,\n",
      "\tWeek,\n",
      "\tDate,\n",
      "\tMosquito_number,\n",
      "\tLat,\n",
      "\tLon,\n",
      "\tMonth\n",
      "\n",
      "The Categorical columns: \n",
      "\tAddress_Block,\n",
      "\tTrap,\n",
      "\tTrap_type,\n",
      "\tSpecies\n"
     ]
    }
   ],
   "source": [
    "nums_df, cats_df = ds_utils.num_cat_cols(df, datetime_is_numeric=True)"
   ]
  },
  {
   "cell_type": "markdown",
   "id": "d3b51ede",
   "metadata": {},
   "source": [
    "# Numeric Variables"
   ]
  },
  {
   "cell_type": "markdown",
   "id": "edeada64",
   "metadata": {},
   "source": [
    "As an initial exploration we will create histograms for all of the numeric columns in order to see the spread of \n",
    "data within these. They are not perfectly executed as they are not for deep interpretation but rather for a quick \n",
    "view of what may be interesting to look deeper into."
   ]
  },
  {
   "cell_type": "code",
   "execution_count": 94,
   "id": "11887845",
   "metadata": {
    "scrolled": false
   },
   "outputs": [
    {
     "name": "stdout",
     "output_type": "stream",
     "text": [
      "Year Summary Statistics:\n",
      "count    17913.000000\n",
      "mean      2012.859320\n",
      "std          3.734186\n",
      "min       2007.000000\n",
      "25%       2010.000000\n",
      "50%       2013.000000\n",
      "75%       2016.000000\n",
      "max       2019.000000\n",
      "Name: Year, dtype: float64\n"
     ]
    },
    {
     "data": {
      "image/png": "[encoded data removed]",
      "text/plain": [
       "<Figure size 720x720 with 1 Axes>"
      ]
     },
     "metadata": {
      "needs_background": "light"
     },
     "output_type": "display_data"
    },
    {
     "name": "stdout",
     "output_type": "stream",
     "text": [
      "Week Summary Statistics:\n",
      "count    17913.000000\n",
      "mean        30.971641\n",
      "std          4.373486\n",
      "min         20.000000\n",
      "25%         28.000000\n",
      "50%         31.000000\n",
      "75%         34.000000\n",
      "max         40.000000\n",
      "Name: Week, dtype: float64\n"
     ]
    },
    {
     "data": {
      "image/png": "[encoded data removed]",
      "text/plain": [
       "<Figure size 720x720 with 1 Axes>"
      ]
     },
     "metadata": {
      "needs_background": "light"
     },
     "output_type": "display_data"
    },
    {
     "name": "stdout",
     "output_type": "stream",
     "text": [
      "Date Summary Statistics:\n",
      "count                            17913\n",
      "mean     2013-06-13 13:05:12.302796544\n",
      "min                2007-05-29 00:05:00\n",
      "25%                2010-07-13 00:07:00\n",
      "50%                2013-08-15 00:08:00\n",
      "75%                2016-08-04 00:08:00\n",
      "max                2019-09-26 00:09:00\n",
      "Name: Date, dtype: object\n"
     ]
    },
    {
     "data": {
      "image/png": "[encoded data removed]",
      "text/plain": [
       "<Figure size 720x720 with 1 Axes>"
      ]
     },
     "metadata": {
      "needs_background": "light"
     },
     "output_type": "display_data"
    },
    {
     "name": "stdout",
     "output_type": "stream",
     "text": [
      "Mosquito_number Summary Statistics:\n",
      "count    17913.000000\n",
      "mean        10.626584\n",
      "std         13.403571\n",
      "min          1.000000\n",
      "25%          2.000000\n",
      "50%          4.000000\n",
      "75%         14.000000\n",
      "max         50.000000\n",
      "Name: Mosquito_number, dtype: float64\n"
     ]
    },
    {
     "data": {
      "image/png": "[encoded data removed]",
      "text/plain": [
       "<Figure size 720x720 with 1 Axes>"
      ]
     },
     "metadata": {
      "needs_background": "light"
     },
     "output_type": "display_data"
    },
    {
     "name": "stdout",
     "output_type": "stream",
     "text": [
      "Lat Summary Statistics:\n",
      "count    17913.000000\n",
      "mean        41.849447\n",
      "std          0.115124\n",
      "min         41.644720\n",
      "25%         41.745389\n",
      "50%         41.867599\n",
      "75%         41.964405\n",
      "max         42.017801\n",
      "Name: Lat, dtype: float64\n"
     ]
    },
    {
     "data": {
      "image/png": "[encoded data removed]",
      "text/plain": [
       "<Figure size 720x720 with 1 Axes>"
      ]
     },
     "metadata": {
      "needs_background": "light"
     },
     "output_type": "display_data"
    },
    {
     "name": "stdout",
     "output_type": "stream",
     "text": [
      "Lon Summary Statistics:\n",
      "count    17913.000000\n",
      "mean       -87.710354\n",
      "std          0.097086\n",
      "min        -87.906036\n",
      "25%        -87.770837\n",
      "50%        -87.701388\n",
      "75%        -87.643076\n",
      "max        -87.531051\n",
      "Name: Lon, dtype: float64\n"
     ]
    },
    {
     "data": {
      "image/png": "[encoded data removed]",
      "text/plain": [
       "<Figure size 720x720 with 1 Axes>"
      ]
     },
     "metadata": {
      "needs_background": "light"
     },
     "output_type": "display_data"
    },
    {
     "name": "stdout",
     "output_type": "stream",
     "text": [
      "Month Summary Statistics:\n",
      "count    17913.000000\n",
      "mean         7.620052\n",
      "std          1.006069\n",
      "min          5.000000\n",
      "25%          7.000000\n",
      "50%          8.000000\n",
      "75%          8.000000\n",
      "max         10.000000\n",
      "Name: Month, dtype: float64\n"
     ]
    },
    {
     "data": {
      "image/png": "[encoded data removed]",
      "text/plain": [
       "<Figure size 720x720 with 1 Axes>"
      ]
     },
     "metadata": {
      "needs_background": "light"
     },
     "output_type": "display_data"
    }
   ],
   "source": [
    "ds_utils.num_var(df[nums_df])"
   ]
  },
  {
   "cell_type": "markdown",
   "id": "fad4e05b",
   "metadata": {},
   "source": [
    "First glance of these histograms show that `Date` and `Year` are not uniformally distributed, meaning that there is not a consistent amount of data throughout the dataset - this may be the result of trends in the mosquito population\n",
    "from year to year (potentially because of differences in rain fall). We will look more deeply into this. \n",
    "\n",
    "The distrbution of the `Week` variable is interesting as it shows bell shaped distibution with a peak in the middle of the summer. (Only weeks 20 to 40 of the year are reported (in general this aligns to mid-May to early October)). \n",
    "\n",
    "There is a clear right skew in `Mosquito_number` however, this histogram is not representative of the reality of the date. It considers the dataframe with the 50 mosquito maximum per data-point limitation. This means that the true number of mosquitos caught, with everything else being equal, is not represented. This also explains the jump at the largest bin (as these data points would represent the 50 mosquito over flow rows). As this histogram is not representative of the data we will look more deeply into `Mosquito_number`\n",
    "\n",
    "The distribution of `Lat` and `Lon` is somewhat uninterpretable, as these attributes are location so their numeric \n",
    "value should have little reason."
   ]
  },
  {
   "cell_type": "markdown",
   "id": "25d11185",
   "metadata": {},
   "source": [
    "Now we will look more deeply into `Mosquito_number`.\n",
    "\n",
    "It is important to remember that, from our above discovery, mosquito number does not show the total number of mosquitos caught in each trap for each date, but rather the number of a specific species caught at each trap for a specific date/time. In order to look at the data more fairly we will create a dataframe that groups by every attribute \n",
    "except the `Mosquito_number`. Then we will count the number of mosquitos, will all else being equal, in order to create a truly representative histogram."
   ]
  },
  {
   "cell_type": "code",
   "execution_count": 95,
   "id": "a0725087",
   "metadata": {
    "scrolled": true
   },
   "outputs": [],
   "source": [
    "# Creating a count of Mosquito_number by grouping by all attributes except \"Mosquito_number\" and then summing \n",
    "# \"Mosquito_number\"\n",
    "mos_df = df.groupby([\"Year\",\"Week\",\"Address_Block\",\"Trap\",\"Trap_type\",\"Date\",\"WNV_Present\", \"Species\",\"Lat\",\"Lon\",\"YRWeek\"])[\"Mosquito_number\"].sum().to_frame().reset_index()"
   ]
  },
  {
   "cell_type": "markdown",
   "id": "72d1d570",
   "metadata": {},
   "source": [
    "After creating this new dataframe, it is useful to see some summary statistics on the distrbution of the mosquito number before looking at a histogram."
   ]
  },
  {
   "cell_type": "code",
   "execution_count": 96,
   "id": "3d61652b",
   "metadata": {
    "scrolled": true
   },
   "outputs": [
    {
     "data": {
      "text/plain": [
       "count    17389.000000\n",
       "mean        10.946805\n",
       "std         17.781567\n",
       "min          1.000000\n",
       "25%          2.000000\n",
       "50%          4.000000\n",
       "75%         13.000000\n",
       "max        500.000000\n",
       "Name: Mosquito_number, dtype: float64"
      ]
     },
     "execution_count": 96,
     "metadata": {},
     "output_type": "execute_result"
    }
   ],
   "source": [
    "# The describe() method returns summary statistics on the called pandas column.\n",
    "mos_df[\"Mosquito_number\"].describe()"
   ]
  },
  {
   "cell_type": "markdown",
   "id": "35d1bc16",
   "metadata": {},
   "source": [
    "From this we can see that there should be a right skew - as the median (reported as 50%) is 4.00 and the mean is larger at 10.95. The larger mean implies that there are very large values that are driving the average number up. \n",
    "\n",
    "We will now create a histogram with this newly formed dataframe in order to see the true distrbution of \"Mosquito_number\" and show the mean and median of the distribution as red and blue lines, respectively."
   ]
  },
  {
   "cell_type": "code",
   "execution_count": 97,
   "id": "0b997f90",
   "metadata": {
    "scrolled": false
   },
   "outputs": [
    {
     "name": "stdout",
     "output_type": "stream",
     "text": [
      "The mean \"Mosquito_number\" is: 10.946805451722353\n",
      "The median \"Mosquito_number\" is: 4.0\n"
     ]
    },
    {
     "data": {
      "image/png": "[encoded data removed]",
      "text/plain": [
       "<Figure size 720x720 with 1 Axes>"
      ]
     },
     "metadata": {
      "needs_background": "light"
     },
     "output_type": "display_data"
    }
   ],
   "source": [
    "# Creating a histogram of \n",
    "sns.histplot(mos_df[\"Mosquito_number\"]) # Plots histogram of \n",
    "plt.axvline(mos_df[\"Mosquito_number\"].mean(), color='red') # Plots mean line on histogram\n",
    "plt.axvline(np.median(mos_df[\"Mosquito_number\"]), color='cyan') # Plots median line on histogram\n",
    "\n",
    "print(\"The mean \\\"Mosquito_number\\\" is:\",mos_df[\"Mosquito_number\"].mean())\n",
    "print(\"The median \\\"Mosquito_number\\\" is:\",np.median(mos_df[\"Mosquito_number\"]))"
   ]
  },
  {
   "cell_type": "markdown",
   "id": "714192a5",
   "metadata": {},
   "source": [
    "This histogram is far more representative of the data, as it shows that there is a right skew and that there is far more data below 50 than above it. "
   ]
  },
  {
   "cell_type": "markdown",
   "id": "c593d5d0",
   "metadata": {},
   "source": [
    "Finally, we will look at `Date` in order to understand the length of time the data spreads. Though this is not strictly numerical, it is the closest to being continuous data of all the attributes other than `Mosquito_number`. It is also a good idea to look into date because our exploration has shown that there are multiple inputs for certain dates (because of multiple species inputs for the same trap at the same time)."
   ]
  },
  {
   "cell_type": "code",
   "execution_count": 98,
   "id": "d5165956",
   "metadata": {
    "scrolled": true
   },
   "outputs": [
    {
     "data": {
      "text/plain": [
       "count                            17913\n",
       "mean     2013-06-13 13:05:12.302796544\n",
       "min                2007-05-29 00:05:00\n",
       "25%                2010-07-13 00:07:00\n",
       "50%                2013-08-15 00:08:00\n",
       "75%                2016-08-04 00:08:00\n",
       "max                2019-09-26 00:09:00\n",
       "Name: Date, dtype: object"
      ]
     },
     "execution_count": 98,
     "metadata": {},
     "output_type": "execute_result"
    }
   ],
   "source": [
    "# By setting the datetime_is_numeric parameter to True, we can see the distribution of the dates in the dataset. \n",
    "df[\"Date\"].describe(datetime_is_numeric=True)"
   ]
  },
  {
   "cell_type": "code",
   "execution_count": 99,
   "id": "5b0599ca",
   "metadata": {},
   "outputs": [
    {
     "name": "stdout",
     "output_type": "stream",
     "text": [
      "The number of unique Date values is: 286\n"
     ]
    }
   ],
   "source": [
    "print(\"The number of unique Date values is:\", len(df[\"Date\"].unique()))"
   ]
  },
  {
   "cell_type": "markdown",
   "id": "87601186",
   "metadata": {},
   "source": [
    "This output treats \"Date\" as numeric, based on the condition passed in. Is helpful to note that the first data point comes on 29/05/2007 and the last is on 26/09/2019, meanning the data spans 13 years. The start and end dates bookending the summer seems to imply that there may a limitation to the time of year that data is recorded in. The number of unique date values is 286, meaning that there are fewer date values than expected. However,  it may be the case that testing was done at the same time for multiple traps and species.\n",
    "\n",
    "Looking into how date is distributed requires diving deeper into how data is distributed by year and by week. Luckily attributes for those columns exist and can be used in order to gain a better understanding of `Date`. \n",
    "\n",
    "In the below visualisations we will look into the distributions of the amount of data collected by `Date`, `Year` and `Week`. This does not represent the number of mosquitos caught, though it is indicitive of patterns, but rather the amount of times that data was collected at different time periods."
   ]
  },
  {
   "cell_type": "code",
   "execution_count": 100,
   "id": "652a7ea5",
   "metadata": {},
   "outputs": [
    {
     "data": {
      "image/png": "[encoded data removed]",
      "text/plain": [
       "<Figure size 720x720 with 3 Axes>"
      ]
     },
     "metadata": {
      "needs_background": "light"
     },
     "output_type": "display_data"
    }
   ],
   "source": [
    "# Creating a grid for the histograms of \"Date\", \"Year\" and \"Week\"\n",
    "\n",
    "# GridSpec initialises a visualisation that allows us to control subplots\n",
    "gridspec.GridSpec(2,2)\n",
    "\n",
    "# We put the first plot, \"Date\" histogram, in the highest row and spreading two columns. \n",
    "plt.subplot2grid((2,2), (0,0), colspan=2, rowspan=1)\n",
    "sns.histplot(df[\"Date\"], cbar=df[\"Week\"], discrete=True)\n",
    "plt.title(\"Number of Data Points for Each Date\")\n",
    "\n",
    "# We put the \"Year\" histogram in the first column of the second row\n",
    "plt.subplot2grid((2,2), (1,0))\n",
    "sns.histplot(df[\"Year\"], discrete=True)\n",
    "plt.xticks(ticks = df[\"Year\"].unique(), rotation=45)\n",
    "plt.title(\"Number of Data Points for Each Year\")\n",
    "\n",
    "# We put the \"Week\" histogram in the second column of the second row\n",
    "plt.subplot2grid((2,2), (1,1))\n",
    "sns.histplot(df[\"Week\"], discrete=True)\n",
    "plt.title(\"Number of Data Points for Each Week\")\n",
    "\n",
    "plt.show()"
   ]
  },
  {
   "cell_type": "markdown",
   "id": "dc64cd06",
   "metadata": {},
   "source": [
    "Now, this distrbution tells a strange story about how consistently data was collected. It seems inconsistent both in frequency of data collection and in amount of times data was collected in the same period of time. Looking more specifically into the year showed that data was collected every year, but not the same amount. This is may be the result of there being varying mosquitos in different year (potentially based on rainfall). It is also helpful to see if the inconsistent trend through the whole date period had trends within the years themselves. Looking at week proves this to be true, as there is a clear overall higher number of data points collected around weeks 30-35. The labelling of these weeks themselves also seems to suggest that there is a seasonal trend. Only weeks 20 to 40 of the year are reported (in general this aligns to mid-May to early October). \n",
    "\n",
    "The inconsistencies in the amount of data collected will be a direct result of the fact that data was only collected when mosquitos were found. If data had been collected when mosquitos were not found, these distributions may be more uniform."
   ]
  },
  {
   "cell_type": "markdown",
   "id": "3fa2fb51",
   "metadata": {},
   "source": [
    "### Categorical Variables\n",
    "\n",
    "Now we will look into categorical variables and their distributions. We will use the `cats_df` variable to create a \n",
    "dataframe with only the categorical variables, and then pass this into a `ds_utils` function named `cat_vars` which creates barplots of the distributions. "
   ]
  },
  {
   "cell_type": "code",
   "execution_count": 101,
   "id": "9ff0f9e0",
   "metadata": {},
   "outputs": [
    {
     "name": "stdout",
     "output_type": "stream",
     "text": [
      "Number of Unique Address_Block Values: 154\n",
      "Number of Unique Trap Values: 190\n",
      "          Trap_type\n",
      "GRAVID        17170\n",
      "CDC             533\n",
      "SENTINEL        209\n",
      "OVI               1\n"
     ]
    },
    {
     "data": {
      "image/png": "[encoded data removed]",
      "text/plain": [
       "<Figure size 720x720 with 1 Axes>"
      ]
     },
     "metadata": {
      "needs_background": "light"
     },
     "output_type": "display_data"
    },
    {
     "name": "stdout",
     "output_type": "stream",
     "text": [
      "                  Species\n",
      "CULEX RESTUANS      11450\n",
      "CULEX PIPIENS        5324\n",
      "CULEX TERRITANS       917\n",
      "CULEX SALINARIUS      222\n"
     ]
    },
    {
     "data": {
      "image/png": "[encoded data removed]",
      "text/plain": [
       "<Figure size 720x720 with 1 Axes>"
      ]
     },
     "metadata": {
      "needs_background": "light"
     },
     "output_type": "display_data"
    }
   ],
   "source": [
    "ds_utils.cat_var(df[cats_df])"
   ]
  },
  {
   "cell_type": "markdown",
   "id": "e8c58bb5",
   "metadata": {},
   "source": [
    "Though not perfect, these histograms give a quick view into the prevalence of the categorical variables within the dataset.\n",
    "\n",
    "Looking at the `Address Block` shows us that there is a large spread in locations, with differing number of data points collected at each locations. This makes intuitive sense, as even if traps are set up all over the city, there will be locations with higher chances of catching mosquitos because the mosquito population would be larger there. A similar argument for understanding the inconsistent distribution of data points at each Trap can be made, as traps in different locations will be more or less prone to mosquitos being around.\n",
    "\n",
    "The `Trap type` barplot shows us that the most common trap in the dataset is the GRAVID, with far more appearances than the CDC, SENTINEL AND OVI. This could be indicative of the GRAVID trap being the best at catching mosquitoes, but this requires further investigation. \n",
    "\n",
    "The `Species` barplot shows us that the most common species in the dataset is Culex Restuans, with almost double the number of appearances as CULEX PIPIENS, the second most common. This is not to say, at this point, that this is the most common species of mosquito, but rather that this species has the most data entries. It may be the case that these data entries are all 1 mosquito and that the CULEX PIPIENS are caught in groups of 30. This requires further invetigation. \n",
    "\n",
    "Finally, the `WNV_Present` barplot shows that there are far more rows with `False` labels than `True`. Again, this is somewhat similar to the species bar plot in that this may be representative of the proportion of mosquitos carrying WNV or not, but the bar plot is only telling us that there are more rows with `False` indications than `True`. It could be the case that `True` rows have far more or far less mosquitos than `False` rows. Again, this needs further investigation. "
   ]
  },
  {
   "cell_type": "markdown",
   "id": "bf7d6c7d",
   "metadata": {},
   "source": [
    "First we will look into `Species`, in order to understand the number of mosquito species in and see how many of each is in the dataset. We will look into how many rows occur for each species, and then dive into how many mosquitos overall are of each species. "
   ]
  },
  {
   "cell_type": "code",
   "execution_count": 102,
   "id": "26fb470e",
   "metadata": {
    "scrolled": false
   },
   "outputs": [
    {
     "data": {
      "text/plain": [
       "CULEX RESTUANS      11450\n",
       "CULEX PIPIENS        5324\n",
       "CULEX TERRITANS       917\n",
       "CULEX SALINARIUS      222\n",
       "Name: Species, dtype: int64"
      ]
     },
     "execution_count": 102,
     "metadata": {},
     "output_type": "execute_result"
    }
   ],
   "source": [
    "# The number of each row containing each species.\n",
    "df[\"Species\"].value_counts()"
   ]
  },
  {
   "cell_type": "markdown",
   "id": "b059eaca",
   "metadata": {},
   "source": [
    "Culex Restuans appears in the most rows of the dataset. However, in order to see how many mosquitos of each species were found we need to do a little bit more manipulation. Below we group by `Species` and aggregate mosquito number in order to find how many mosquitos of each species were observed."
   ]
  },
  {
   "cell_type": "code",
   "execution_count": 103,
   "id": "a04cd396",
   "metadata": {},
   "outputs": [
    {
     "data": {
      "text/html": [
       "<div>\n",
       "<style scoped>\n",
       "    .dataframe tbody tr th:only-of-type {\n",
       "        vertical-align: middle;\n",
       "    }\n",
       "\n",
       "    .dataframe tbody tr th {\n",
       "        vertical-align: top;\n",
       "    }\n",
       "\n",
       "    .dataframe thead th {\n",
       "        text-align: right;\n",
       "    }\n",
       "</style>\n",
       "<table border=\"1\" class=\"dataframe\">\n",
       "  <thead>\n",
       "    <tr style=\"text-align: right;\">\n",
       "      <th></th>\n",
       "      <th>Species</th>\n",
       "      <th>Mosquito_number</th>\n",
       "    </tr>\n",
       "  </thead>\n",
       "  <tbody>\n",
       "    <tr>\n",
       "      <th>0</th>\n",
       "      <td>CULEX PIPIENS</td>\n",
       "      <td>58307</td>\n",
       "    </tr>\n",
       "    <tr>\n",
       "      <th>1</th>\n",
       "      <td>CULEX RESTUANS</td>\n",
       "      <td>129791</td>\n",
       "    </tr>\n",
       "    <tr>\n",
       "      <th>2</th>\n",
       "      <td>CULEX SALINARIUS</td>\n",
       "      <td>446</td>\n",
       "    </tr>\n",
       "    <tr>\n",
       "      <th>3</th>\n",
       "      <td>CULEX TERRITANS</td>\n",
       "      <td>1810</td>\n",
       "    </tr>\n",
       "  </tbody>\n",
       "</table>\n",
       "</div>"
      ],
      "text/plain": [
       "            Species  Mosquito_number\n",
       "0     CULEX PIPIENS            58307\n",
       "1    CULEX RESTUANS           129791\n",
       "2  CULEX SALINARIUS              446\n",
       "3   CULEX TERRITANS             1810"
      ]
     },
     "execution_count": 103,
     "metadata": {},
     "output_type": "execute_result"
    }
   ],
   "source": [
    "# Creating a DataFrame called spec_df to count how many of each species were found\n",
    "spec_df = df.groupby(\"Species\")[\"Mosquito_number\"].sum().to_frame().reset_index()\n",
    "spec_df"
   ]
  },
  {
   "cell_type": "code",
   "execution_count": 104,
   "id": "64766ba6",
   "metadata": {
    "scrolled": false
   },
   "outputs": [
    {
     "data": {
      "image/png": "[encoded data removed]",
      "text/plain": [
       "<Figure size 720x720 with 1 Axes>"
      ]
     },
     "metadata": {
      "needs_background": "light"
     },
     "output_type": "display_data"
    }
   ],
   "source": [
    "# This code outputs a visualisation of the number of mosquitos of each species in the dataset\n",
    "sns.barplot(x=\"Species\", y=\"Mosquito_number\", data=spec_df)\n",
    "plt.xticks(rotation=45)\n",
    "plt.title(\"Number of Each Species of Mosquito Caught\")\n",
    "plt.show()\n"
   ]
  },
  {
   "cell_type": "markdown",
   "id": "6331ce80",
   "metadata": {},
   "source": [
    "Overall, Culex Restuans mosquitos do appear the most, with about 2/3s of the mosquitos caught in the entire dataset being of this species. Checking that indeed Culex Restuans is the most prevalent mosquito is important as it shows us the true distribution of the different mosquito species. \n",
    "\n",
    "Interestingly, the number of Culex Restuans and Culex Pipens mosquitos is higher than the number of these Species appearances meaning that these are averagely caught in higher groups than the other two species, Culex Salinarius and Culex Territans. "
   ]
  },
  {
   "cell_type": "markdown",
   "id": "4150a7ae",
   "metadata": {},
   "source": [
    "Next we look into further into the categorical variable `Trap type`. This will allow us to see which traps are used most and if there are any infrequently used traps."
   ]
  },
  {
   "cell_type": "code",
   "execution_count": 105,
   "id": "a061cd00",
   "metadata": {
    "scrolled": true
   },
   "outputs": [
    {
     "name": "stdout",
     "output_type": "stream",
     "text": [
      "GRAVID      17170\n",
      "CDC           533\n",
      "SENTINEL      209\n",
      "OVI             1\n",
      "Name: Trap_type, dtype: int64\n"
     ]
    }
   ],
   "source": [
    "print(df[\"Trap_type\"].value_counts())"
   ]
  },
  {
   "cell_type": "markdown",
   "id": "8ba355fe",
   "metadata": {},
   "source": [
    "From this result we can see that most mosquito traps used were the GRAVID type. Very few were any of the other types, CDC, Sentinel and only one was OVI. It could be considered to remove this datapoint as it is very unique and may have a bias. We will look to see what form this datapoint takes. "
   ]
  },
  {
   "cell_type": "code",
   "execution_count": 106,
   "id": "a89c3960",
   "metadata": {
    "scrolled": true
   },
   "outputs": [
    {
     "data": {
      "text/html": [
       "<div>\n",
       "<style scoped>\n",
       "    .dataframe tbody tr th:only-of-type {\n",
       "        vertical-align: middle;\n",
       "    }\n",
       "\n",
       "    .dataframe tbody tr th {\n",
       "        vertical-align: top;\n",
       "    }\n",
       "\n",
       "    .dataframe thead th {\n",
       "        text-align: right;\n",
       "    }\n",
       "</style>\n",
       "<table border=\"1\" class=\"dataframe\">\n",
       "  <thead>\n",
       "    <tr style=\"text-align: right;\">\n",
       "      <th></th>\n",
       "      <th>Year</th>\n",
       "      <th>Week</th>\n",
       "      <th>Address_Block</th>\n",
       "      <th>Trap</th>\n",
       "      <th>Trap_type</th>\n",
       "      <th>Date</th>\n",
       "      <th>Mosquito_number</th>\n",
       "      <th>WNV_Present</th>\n",
       "      <th>Species</th>\n",
       "      <th>Lat</th>\n",
       "      <th>Lon</th>\n",
       "      <th>YRWeek</th>\n",
       "      <th>Month</th>\n",
       "    </tr>\n",
       "  </thead>\n",
       "  <tbody>\n",
       "    <tr>\n",
       "      <th>15392</th>\n",
       "      <td>2007</td>\n",
       "      <td>23</td>\n",
       "      <td>5XX S CENTRAL AVE</td>\n",
       "      <td>T167</td>\n",
       "      <td>OVI</td>\n",
       "      <td>2007-06-29 11:06:00</td>\n",
       "      <td>1</td>\n",
       "      <td>False</td>\n",
       "      <td>CULEX PIPIENS</td>\n",
       "      <td>41.872873</td>\n",
       "      <td>-87.764737</td>\n",
       "      <td>2007-23</td>\n",
       "      <td>6</td>\n",
       "    </tr>\n",
       "  </tbody>\n",
       "</table>\n",
       "</div>"
      ],
      "text/plain": [
       "       Year  Week      Address_Block  Trap Trap_type                Date  \\\n",
       "15392  2007    23  5XX S CENTRAL AVE  T167       OVI 2007-06-29 11:06:00   \n",
       "\n",
       "       Mosquito_number  WNV_Present        Species        Lat        Lon  \\\n",
       "15392                1        False  CULEX PIPIENS  41.872873 -87.764737   \n",
       "\n",
       "        YRWeek  Month  \n",
       "15392  2007-23      6  "
      ]
     },
     "execution_count": 106,
     "metadata": {},
     "output_type": "execute_result"
    }
   ],
   "source": [
    "df.loc[df[\"Trap_type\"] == \"OVI\"]"
   ]
  },
  {
   "cell_type": "markdown",
   "id": "32812f10",
   "metadata": {},
   "source": [
    "Only one mosquito was caught in this trap in 2007, of the second most popular species of mosquito. One mosquito being caught makes it impossible to see how this trap's presence had an impact on the WNV over time, or how these traps fair with different species. Because there is only one instance of this trap and only one mosquito was killed it makes sense to remove this from the dataset. This is also supported by the fact that the West Nile Virus was not present in the one mosquito caught by the OVI trap and the OVI traps was last used in the first year of this 13 year dataset. \n",
    "\n",
    "Below is the code for removing this datapoint. "
   ]
  },
  {
   "cell_type": "code",
   "execution_count": 107,
   "id": "bea76de4",
   "metadata": {
    "scrolled": true
   },
   "outputs": [],
   "source": [
    "# We use the index of this data point to drop it, by passing the index into the .drop() method\n",
    "df.drop(index=df[df[\"Trap_type\"] == \"OVI\"].index, inplace=True)"
   ]
  },
  {
   "cell_type": "markdown",
   "id": "a65cf0fa",
   "metadata": {},
   "source": [
    "As a note: We now have 17913 Rows and 12 Columns\n",
    "\n",
    "Now we can look at the prevalence of the taps in the dataset. Doing a histogram with counts shows us how many times each trap appears in the dataset. But, again, it makes more sense to see how many mosquitos were caught by each type of trap. For this reason we will group by trap and look at the number of mosquitos caught at each trap."
   ]
  },
  {
   "cell_type": "code",
   "execution_count": 108,
   "id": "c99ded91",
   "metadata": {},
   "outputs": [],
   "source": [
    "# We will use a groupby to look at the number of mosquitos caught in each type of trap\n",
    "trap_df = df.groupby(\"Trap_type\")[\"Mosquito_number\"].sum().reset_index()"
   ]
  },
  {
   "cell_type": "code",
   "execution_count": 109,
   "id": "e31ed2b8",
   "metadata": {
    "scrolled": false
   },
   "outputs": [
    {
     "data": {
      "image/png": "[encoded data removed]",
      "text/plain": [
       "<Figure size 720x720 with 1 Axes>"
      ]
     },
     "metadata": {
      "needs_background": "light"
     },
     "output_type": "display_data"
    }
   ],
   "source": [
    "# This barplot shows the number of mosquitos caught at each trap type.\n",
    "sns.barplot(x=\"Trap_type\", y=\"Mosquito_number\", data=trap_df, estimator=sum, ci=None)\n",
    "plt.title(\"Number of Mosquitos caught at each Trap Type\")\n",
    "plt.show()"
   ]
  },
  {
   "cell_type": "markdown",
   "id": "87753e1b",
   "metadata": {},
   "source": [
    "This shows that by far the GRAVID trap type catches the most mosquitos. It would now be interesting to see if there are trends in which moquitos get caught by which traps. We will consider looking at this in our advanced exploratory data analysis. "
   ]
  },
  {
   "cell_type": "markdown",
   "id": "6c83a54d",
   "metadata": {},
   "source": [
    "## Re-Indexing with the Date Column\n",
    "As mentioned above we will use the `Date` column as an index in order for more easy data manipulation. The code below re-indexes the data using the `Date` column. "
   ]
  },
  {
   "cell_type": "code",
   "execution_count": 110,
   "id": "7abbde42",
   "metadata": {},
   "outputs": [],
   "source": [
    "# Using the set_index() method allows us to choose \"Date\" to be our new index.\n",
    "df.set_index(keys=\"Date\", inplace=True)"
   ]
  },
  {
   "cell_type": "markdown",
   "id": "7c0b6c8b",
   "metadata": {},
   "source": [
    "We will also create a Pandas DataFrame with the true number of mosquitos caught for each row, with all else being equal. This will help with further data manipulation."
   ]
  },
  {
   "cell_type": "code",
   "execution_count": 111,
   "id": "b95e588c",
   "metadata": {},
   "outputs": [],
   "source": [
    "# Here we are creating a dataframe with the number of mosquitos grouped with all other attributes being equal.\n",
    "# We, again, set the index to \"Date\" as this is convention.\n",
    "df_comb = df.groupby([\"Year\",\"Week\",\"Address_Block\",\"Trap\",\"Trap_type\",\"Date\",\n",
    "                      \"WNV_Present\", \"Species\",\"Lat\", \n",
    "                      \"Lon\",\"YRWeek\"])[\"Mosquito_number\"].sum().to_frame().reset_index().set_index(keys=\"Date\")"
   ]
  },
  {
   "cell_type": "markdown",
   "id": "9f335e50",
   "metadata": {},
   "source": [
    "We can now remove the `YRWeek` variable. Though useful for our EDA, it is not helpful in our modelling because it is a ordinal marker of the week throughout the dataset (almost like an index). "
   ]
  },
  {
   "cell_type": "code",
   "execution_count": 112,
   "id": "121d0b57",
   "metadata": {},
   "outputs": [],
   "source": [
    "df_comb = df_comb.drop(columns=['YRWeek'])"
   ]
  },
  {
   "cell_type": "markdown",
   "id": "9e57b60c",
   "metadata": {},
   "source": [
    "## Exporting Cleaned Data\n",
    "\n",
    "Now that we have a cleaned and prepared dataset, we can export it for later use in modelling. This can be done now, as we will not make any changes to the form of the data through Exploratory Data Analysis. "
   ]
  },
  {
   "cell_type": "code",
   "execution_count": 113,
   "id": "a2b14b73",
   "metadata": {},
   "outputs": [],
   "source": [
    "\n",
    "# export pandas dataframe to csv file \n",
    "df_comb.to_csv('data/mosquito_preprocessed.csv')"
   ]
  },
  {
   "cell_type": "markdown",
   "id": "a28417f4",
   "metadata": {},
   "source": [
    "## Exploratory Data Analysis <a id=explo a>\n"
   ]
  },
  {
   "cell_type": "markdown",
   "id": "653c2ae1",
   "metadata": {},
   "source": [
    "Looking into the relationships between attributes will give us a clearer view of patterns of West Nile Virus in the Mosquito population in Chicago. \n",
    "\n",
    "Now we will begin to explore the relationship between attributes more closely. To start, we will investigate how `Mosquito_number` varies with date. From our Data Wrangling it is clear that this could be a major influence on number of mosquitos caught.\n",
    "    \n",
    "Trying to look directly at the number of mosquitos and date leads to some issues of interpretatility. It is hard to understand the trends, so we have decided to use the `YRWeek` attribute in place of date. This will allow for easier visual understanding and reduce computational load (when we first do a groupby in order to visualise the number of \n",
    "mosquitos caught in each week of the entire dataset). \n",
    "\n",
    "\n",
    "The first line graph below shows the direct relationship between distinct week and number of mosquitos. It hits at trends across years and across the seasons of each year, so two additional line graphs were created. One for the trend of mosquito number by year, and one by the mosquito number by week (aggregating every week for the 13 years of the dataset)."
   ]
  },
  {
   "cell_type": "code",
   "execution_count": 114,
   "id": "694c11d3",
   "metadata": {},
   "outputs": [
    {
     "data": {
      "text/html": [
       "<div>\n",
       "<style scoped>\n",
       "    .dataframe tbody tr th:only-of-type {\n",
       "        vertical-align: middle;\n",
       "    }\n",
       "\n",
       "    .dataframe tbody tr th {\n",
       "        vertical-align: top;\n",
       "    }\n",
       "\n",
       "    .dataframe thead th {\n",
       "        text-align: right;\n",
       "    }\n",
       "</style>\n",
       "<table border=\"1\" class=\"dataframe\">\n",
       "  <thead>\n",
       "    <tr style=\"text-align: right;\">\n",
       "      <th></th>\n",
       "      <th>Year</th>\n",
       "      <th>Week</th>\n",
       "      <th>YRWeek</th>\n",
       "      <th>Mosquito_number</th>\n",
       "    </tr>\n",
       "  </thead>\n",
       "  <tbody>\n",
       "    <tr>\n",
       "      <th>0</th>\n",
       "      <td>2007</td>\n",
       "      <td>21</td>\n",
       "      <td>2007-21</td>\n",
       "      <td>30</td>\n",
       "    </tr>\n",
       "    <tr>\n",
       "      <th>1</th>\n",
       "      <td>2007</td>\n",
       "      <td>22</td>\n",
       "      <td>2007-22</td>\n",
       "      <td>99</td>\n",
       "    </tr>\n",
       "    <tr>\n",
       "      <th>2</th>\n",
       "      <td>2007</td>\n",
       "      <td>23</td>\n",
       "      <td>2007-23</td>\n",
       "      <td>60</td>\n",
       "    </tr>\n",
       "    <tr>\n",
       "      <th>3</th>\n",
       "      <td>2007</td>\n",
       "      <td>24</td>\n",
       "      <td>2007-24</td>\n",
       "      <td>147</td>\n",
       "    </tr>\n",
       "    <tr>\n",
       "      <th>4</th>\n",
       "      <td>2007</td>\n",
       "      <td>25</td>\n",
       "      <td>2007-25</td>\n",
       "      <td>108</td>\n",
       "    </tr>\n",
       "    <tr>\n",
       "      <th>...</th>\n",
       "      <td>...</td>\n",
       "      <td>...</td>\n",
       "      <td>...</td>\n",
       "      <td>...</td>\n",
       "    </tr>\n",
       "    <tr>\n",
       "      <th>227</th>\n",
       "      <td>2019</td>\n",
       "      <td>35</td>\n",
       "      <td>2019-35</td>\n",
       "      <td>288</td>\n",
       "    </tr>\n",
       "    <tr>\n",
       "      <th>228</th>\n",
       "      <td>2019</td>\n",
       "      <td>36</td>\n",
       "      <td>2019-36</td>\n",
       "      <td>173</td>\n",
       "    </tr>\n",
       "    <tr>\n",
       "      <th>229</th>\n",
       "      <td>2019</td>\n",
       "      <td>37</td>\n",
       "      <td>2019-37</td>\n",
       "      <td>373</td>\n",
       "    </tr>\n",
       "    <tr>\n",
       "      <th>230</th>\n",
       "      <td>2019</td>\n",
       "      <td>38</td>\n",
       "      <td>2019-38</td>\n",
       "      <td>167</td>\n",
       "    </tr>\n",
       "    <tr>\n",
       "      <th>231</th>\n",
       "      <td>2019</td>\n",
       "      <td>39</td>\n",
       "      <td>2019-39</td>\n",
       "      <td>103</td>\n",
       "    </tr>\n",
       "  </tbody>\n",
       "</table>\n",
       "<p>232 rows × 4 columns</p>\n",
       "</div>"
      ],
      "text/plain": [
       "     Year  Week   YRWeek  Mosquito_number\n",
       "0    2007    21  2007-21               30\n",
       "1    2007    22  2007-22               99\n",
       "2    2007    23  2007-23               60\n",
       "3    2007    24  2007-24              147\n",
       "4    2007    25  2007-25              108\n",
       "..    ...   ...      ...              ...\n",
       "227  2019    35  2019-35              288\n",
       "228  2019    36  2019-36              173\n",
       "229  2019    37  2019-37              373\n",
       "230  2019    38  2019-38              167\n",
       "231  2019    39  2019-39              103\n",
       "\n",
       "[232 rows x 4 columns]"
      ]
     },
     "execution_count": 114,
     "metadata": {},
     "output_type": "execute_result"
    }
   ],
   "source": [
    "# First we groupby the attributes we are hoping to compate with mosquito number; \"Year\", \"Week\" and \"YRWeek\"\n",
    "df_yrwk = df.groupby([\"Year\", \"Week\", \"YRWeek\"])[\"Mosquito_number\"].sum().to_frame().reset_index()\n",
    "df_yrwk"
   ]
  },
  {
   "cell_type": "code",
   "execution_count": 115,
   "id": "ac7ca694",
   "metadata": {},
   "outputs": [],
   "source": [
    "# Here we are creating a list for the location of our x axis ticks in the lineplot of mosquito number by Date\n",
    "yrs_Date = [\"2007-30\",\"2008-30\",\"2009-30\",\"2010-30\",\"2011-30\",\"2012-30\",\"2013-30\",\"2014-30\",\"2015-30\",\n",
    "            \"2016-30\",\"2017-30\",\"2018-30\",\"2019-30\"]\n",
    "    "
   ]
  },
  {
   "cell_type": "code",
   "execution_count": 116,
   "id": "59d9282a",
   "metadata": {
    "scrolled": false
   },
   "outputs": [
    {
     "data": {
      "image/png": "[encoded data removed]",
      "text/plain": [
       "<Figure size 720x720 with 3 Axes>"
      ]
     },
     "metadata": {
      "needs_background": "light"
     },
     "output_type": "display_data"
    }
   ],
   "source": [
    "# Here we are creating a visualisation with subplots \n",
    "gridspec.GridSpec(2,2)\n",
    "\n",
    "# Our YRWeek lineplot will take up two columns of the subplot, as this will allow for more readability.\n",
    "plt.subplot2grid((2,2), (0,0), colspan=2, rowspan=1)\n",
    "sns.lineplot(x=\"YRWeek\", y=\"Mosquito_number\", hue=\"Year\", palette = \"icefire\", data=df_yrwk)#, hue=\"Week\")\n",
    "plt.xticks(ticks=yrs_Date, labels=[2007,2008,2009,2010,2011,2012,2013,2014,2015,2016,2017,2018,2019])\n",
    "plt.legend(labels=[])\n",
    "plt.title(\"Mosquito Number Trends Throughout the Span of the Dataset\")\n",
    "\n",
    "# The Year subplot will go in the first column of the second row\n",
    "plt.subplot2grid((2,2), (1,0), colspan=1, rowspan=1)\n",
    "sns.lineplot(x=\"Year\", y=\"Mosquito_number\", estimator=\"sum\", data=df_yrwk, ci=None)\n",
    "plt.title(\"Mosquito Number caught by Year\")\n",
    "\n",
    "# The week subplot will go in the second column of the first row\n",
    "plt.subplot2grid((2,2), (1,1), colspan=1, rowspan=1)\n",
    "sns.lineplot(x=\"Week\", y=\"Mosquito_number\",estimator=\"sum\", data=df_yrwk, ci=None)\n",
    "plt.title(\"Mosquito Number Caught by Week of Year\")\n",
    "plt.ylabel(\"\")\n",
    "\n",
    "\n",
    "plt.show()"
   ]
  },
  {
   "cell_type": "markdown",
   "id": "6d757544",
   "metadata": {},
   "source": [
    "This above plots show us the trends in number of mosquitos caught throughout the dataset. It is clear that there are years and weeks that have a higher number of mosquitos caught. The first visualisation shows that there are definitely years with less mosquitos caught - namely from 2008 until 2012 when the number began to increase. 2007 and 2016 are by far the highest mosquito count years, both with peak weeks above 5000 caught. However, the Year by mosquitos caught graph shows that those 2007 and 2016 had the highest peak weeks, 2014 had consistently high mosquitos caught throughout the season, with an annual total of around 30000 (which is higher than 2007). \n",
    "\n",
    "This suggests that there are years with higher peaks, in other words a wider spread of mosquitoes caught per week, and there are years with lower peaks but more consistently caught mosquitos throughout the summer. Looking at the number of mosquitos caught by week, in total, it is clear that the peak usually comes after week 30 (or around the end of July). It makes sense that there are more mosquitos in the summer as temperatures are far higher in Chicago than in the Spring and Autumn. (In April 2012 the average temperature was 50 degrees fahrenheit , July's was 81.1, and October's was 51.5 - https://www.weather.gov/lot/October_Temperature_Rankings_Chicago). My initial research shows that mosquitos function far better in temperatures above 80 degrees and cannot function below 50 degrees. Adding temperature to this dataset for year and week could allow for a greater understanding of the behavior of mosquitos across the entire date range. \n",
    "\n",
    "From our exploration we have seen that there a multiple species of mosquitos found in Chicago and that there may be differences in number caught - this begs the question of whether there are specific species of mosquitos that are more likely to carry WNV and therefore a higher risk. We will firstly look into the relationship between species and WNV in order to uncover any potential links.\n",
    "\n",
    "In order to do so we will create a new dataframe that groups by both `Species` and `WNV_Present`. This grouping will be aggregated by the number of Mosquitos caught, giving us the total number of mosquitos caught of all four species and WNV test outcomes. (Over-flow rows is not an issue in this case as we are aggregating without considering the date that the specimen was caught). "
   ]
  },
  {
   "cell_type": "code",
   "execution_count": 117,
   "id": "21bc774e",
   "metadata": {},
   "outputs": [],
   "source": [
    "# Grouping by Species and WNV_Present allows us to create all possible combinations of these two and then count the\n",
    "# number of mosquitos caught in each combination. \n",
    "df_wnv = df.groupby([\"Species\",\"WNV_Present\"])[\"Mosquito_number\"].sum().to_frame().reset_index()"
   ]
  },
  {
   "cell_type": "markdown",
   "id": "c7432b75",
   "metadata": {},
   "source": [
    "From our above exploration we know that Culex Restuans is by far for most common species caught, with more than double \n",
    "the presence of the next most commom, Culex Pipiens. Looking into how many of each species has WNV present is helpful, but thinking about the proportions of each species will give a clearer image of the prevalence of WNV within each species. In order to look at proportion we will sum the total number of each species and then divided the number of positive and negative results by these to find the proportions. We will also add labels to each bar to represent the actual number of mosquitos that fall into these categories. "
   ]
  },
  {
   "cell_type": "code",
   "execution_count": 118,
   "id": "58ef259b",
   "metadata": {},
   "outputs": [],
   "source": [
    "# Next we will create a groupby to count all of the mosquitos within each species, we could do this using the original \n",
    "# dataset, but this smaller frame means there is far less computational load. \n",
    "\n",
    "spec_count = df_wnv.groupby(\"Species\")[\"Mosquito_number\"].sum() # Summing total mosquitos for each species\n",
    "\n",
    "# We will add these totals back to our dataframe using a left join, so that we add the species total to both rows \n",
    "# with the species (the positive and negative rows). Using the _species_total suffix allows us to distingusih between the \n",
    "# total for mosquito number by outcome and species and by just species. \n",
    "df_wnv = df_wnv.merge(spec_count, how=\"left\", on=\"Species\", suffixes=[\"\", \"_species_total\"])\n"
   ]
  },
  {
   "cell_type": "code",
   "execution_count": 119,
   "id": "cc382233",
   "metadata": {},
   "outputs": [],
   "source": [
    "# Creating the \"prop\" attribute allows us to see the proportion of mosquitos, for each species, that has either a \n",
    "# positive or negative result from the WNV test. \n",
    "df_wnv[\"prop\"] = df_wnv[\"Mosquito_number\"] / df_wnv[\"Mosquito_number_species_total\"]"
   ]
  },
  {
   "cell_type": "code",
   "execution_count": 120,
   "id": "df557021",
   "metadata": {
    "scrolled": false
   },
   "outputs": [
    {
     "data": {
      "image/png": "[encoded data removed]",
      "text/plain": [
       "<Figure size 720x720 with 1 Axes>"
      ]
     },
     "metadata": {
      "needs_background": "light"
     },
     "output_type": "display_data"
    }
   ],
   "source": [
    "# This barplot shows the proportion of positive WNV mosquitos for each species\n",
    "ax = sns.barplot(x=\"Species\", y=\"prop\", hue=\"WNV_Present\", data=df_wnv, dodge=True)#, color=\"Mosquito_number\")\n",
    "ax.set_title(\"Proportion of Mosquitos Carrying WNV by Species\")\n",
    "ax.set_ylabel(\"Proportion Carrying WNV\")\n",
    "\n",
    "# In order to set the actual number of mosquitos for each Species and WNV presence we need to use patches in order\n",
    "# to get the placement for each bar.\n",
    "patch = ax.patches\n",
    "\n",
    "# We need to hard code the labels for the bars in order to ensure the correct value is associated with the correct bar\n",
    "labels = [\"30155\", \"83562\", \"433\", \"1776\", \"28151\", \"46229\", \"13\", \"43\"]\n",
    "\n",
    "# Then we iterate over the patches and the labels in order to place the bars in the correct locations\n",
    "for patch, labels in zip(patch, labels):\n",
    "    height = patch.get_height()\n",
    "    ax.text(\n",
    "        patch.get_x() + patch.get_width() / 2, height+0.001, labels, ha=\"center\", va=\"bottom\"\n",
    "    )\n",
    "plt.show()\n"
   ]
  },
  {
   "cell_type": "markdown",
   "id": "4871bb18",
   "metadata": {},
   "source": [
    "From this we can clearly see that the Culex Pipiens has the highest WNV positivity rate, though it is not the most commonly found mosquito in the dataset. The most commonly found mosquito is a Culex Restuans without WNV. This is also positive as it suggests that the mosqutio a human is most likely to interact with is does not have the highest chance of carrying the WNV. It is also clear from this at the two least prevalent species, Culex Salinarius and Culex Territans have very low likelihoods of carrying WNV.\n",
    "\n",
    "This may be the result of the fact that there are so few of them. If the assumption is made that mosquitos tend to stay with their species, it is less likely that a Salinarius or Territans come in contact with a Pipiens or Restuans that carries WNV than one that does (given the proportions of WNV presence are lower than 50% for both). Because Pipiens and Restuans are far more common, and more likely to interact with their own species, they are more likely to contact a WNV positive specimen, and so this would build on itself. \n",
    "\n",
    "There may also be genetic or other spacitial factors that make the Pipiens and Restuans more susceptible to WNV. "
   ]
  },
  {
   "cell_type": "markdown",
   "id": "26057f2c",
   "metadata": {},
   "source": [
    "Next we will consider the relationship between `Mosquito_number` and `Trap type`. This relationship will indicate to us the success of each type of trap at catching mosquitos. It is very helpful to gain an understanding of this relationship, as it will allow us to see whether there are traps that perform better than others. \n",
    "\n",
    "From our earlier exploration we know that the GRAVID Trap appears most in the dataset and that, overall, GRAVID traps caught the most mosquitos. However, this does not express the distribution of number of mosquitos caught by each trap. Now, looking at the number of mosquitos caught at each trap in a boxplot will allow us to see the distribution of the number of mosquitos caught by the different traps at a time. We will use the row-combined dataframe here, meaning that all-else-being-equal rows are combined when counting mosquito number."
   ]
  },
  {
   "cell_type": "code",
   "execution_count": 121,
   "id": "385c4daa",
   "metadata": {
    "scrolled": false
   },
   "outputs": [
    {
     "data": {
      "image/png": "[encoded data removed]",
      "text/plain": [
       "<Figure size 720x720 with 1 Axes>"
      ]
     },
     "metadata": {
      "needs_background": "light"
     },
     "output_type": "display_data"
    }
   ],
   "source": [
    "# This boxplot shows the distribution of the number of mosquitos caught by each trap \n",
    "sns.boxplot(data=df_comb, y=\"Mosquito_number\", x=\"Trap_type\")#, hue=\"WNV_Present\")\n",
    "plt.title(\"SENTINEL Catches The Most Mosquitos At A Time\")\n",
    "plt.show()"
   ]
  },
  {
   "cell_type": "markdown",
   "id": "ef294423",
   "metadata": {},
   "source": [
    "It is unexpected that on average SENTINEL traps caught more mosquitos. However, when considering the number of GRAVID traps across the city this begins to make sense. If there are far more GRAVID traps in locations with few mosquitos, the distribution of mosquitos caught by each trap would be skewed towards less mosquitos than the SENTINEL trap. However, the GRAVID trap does have the greatest outliers - meaning that the highest number of mosquitos tested at oncee was from a GRAVID trap.\n",
    "\n",
    "Further exploration into the location and sizes of these traps across the city will allow for a better picture of why traps catch a higher number of mosquitos on average. There is also the consideration of frequency of testing. There is little information in the dataset as to whether there is a convention for frequency of trap specimen testing. Perhaps there may be a bias in the number of times mosquitos at each location were checked or tested. Again, further investigation into the location and frequency of testing will allow for greater understanding."
   ]
  },
  {
   "cell_type": "markdown",
   "id": "9342eb87",
   "metadata": {},
   "source": [
    "Finally, we can look at how prevalent the differnt `Species` are across the season, by looking at `Week`. Though we know that the Culex Restuans is the most common mosquito in the dataset, there may be different mosquito prevalences throughout the season. In order to look into this, we will aggreagate the data by Species and Week and find number of mosquitos for each combination. Then we will look at the number of mosquitos for each species across the season. "
   ]
  },
  {
   "cell_type": "code",
   "execution_count": 122,
   "id": "a76256d8",
   "metadata": {},
   "outputs": [],
   "source": [
    "# We group by Species and Week to find the number of mosquitos for each combination\n",
    "df_wkspec = df.groupby(['Species', 'Week'])[\"Mosquito_number\"].sum().to_frame().reset_index()"
   ]
  },
  {
   "cell_type": "code",
   "execution_count": 123,
   "id": "7727f10c",
   "metadata": {},
   "outputs": [
    {
     "data": {
      "image/png": "[encoded data removed]",
      "text/plain": [
       "<Figure size 720x720 with 1 Axes>"
      ]
     },
     "metadata": {
      "needs_background": "light"
     },
     "output_type": "display_data"
    }
   ],
   "source": [
    "# This code creates a lineplot with the different number of each species of mosquito across the weeks of the year\n",
    "sns.lineplot(x=\"Week\", y=\"Mosquito_number\", hue=\"Species\", estimator=sum, data=df_wkspec)\n",
    "plt.title(\"Culex Pipiens Spikes Later in the Season\")\n",
    "plt.ylabel(\"Mosquito Number\")\n",
    "plt.show()"
   ]
  },
  {
   "cell_type": "markdown",
   "id": "3a8c8f2a",
   "metadata": {},
   "source": [
    "This lineplot shows us that, as we know, Culex Restuans is the most prominent species of mosquito throughout the dataset and through each season. However, it is clear from this graph that, though Culex Restuans peaks at the end of July (week 30), it is fairly consistently in its bell curve through the season - with the exception that it is slightly more skewed to the first half of the season. On the other hand Culex Pipiens is more skewed towards the end of the season. In fact the graph shows that, in general, there are very few Culex Pipien mosquitos until a quarter way through the season when the number starts to increase exponentially until it peaks in August (after week 30). Then it has a steady, but not steep decline to the end of the season. The difference in prevalence, by season, between the two most common mosquitos is slightly puzzling. \n",
    "\n",
    "Initial thoughts suggest a differnce in sensitivity to temperature. Perhaps Culex Pipiens require a higher temperature to become active than Culex Restuans. Or are more sensitive to temperature overall and need specific conditions to become active. Some research has shown that there are differences in temperature sensitivity between species of mosquito so this may explain the difference in prevalence across the season. However, I would need to do deeper research to confidently conclude that this is the motivation. "
   ]
  },
  {
   "cell_type": "markdown",
   "id": "afb11133",
   "metadata": {},
   "source": [
    "## Conclusion <a id=conclu a>\n",
    "\n",
    "There are clear areas of this dataset where we can see that the West Nile Virus appears the most. We have found that the most common species of mosquito is the Culex Restuans, with the Culex Pipiens being second. These two species really drive the spread of WNV in Chicago, as the other two Culex Salinarius and Culex Territans have a total of 56 WNV positive mosquitos across the 13 season spanning dataset. Though Restuans is the most common species, WNV is found in Pipiens at a higher proporion (overall Restuans has more positive WNV specimen). Therefore, it is fortunate that the Pipiens are only truly present in the second half of the season (as if they were more present throughout the whole season the virus may spread more easily). The Restuans is present throughout the whole season, from the 20th week of the year until the 40th. There is a clear seasonal difference in the presence of mosquitoes, most likely as a result of their differing sensitivity to temperature. "
   ]
  }
 ],
 "metadata": {
  "kernelspec": {
   "display_name": "Python 3 (ipykernel)",
   "language": "python",
   "name": "python3"
  },
  "language_info": {
   "codemirror_mode": {
    "name": "ipython",
    "version": 3
   },
   "file_extension": ".py",
   "mimetype": "text/x-python",
   "name": "python",
   "nbconvert_exporter": "python",
   "pygments_lexer": "ipython3",
   "version": "3.9.12"
  }
 },
 "nbformat": 4,
 "nbformat_minor": 5
}
